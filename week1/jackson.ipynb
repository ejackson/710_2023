{
 "cells": [
  {
   "cell_type": "code",
   "execution_count": null,
   "id": "504f10cb-fb52-43f0-870c-3dc3b029c466",
   "metadata": {},
   "outputs": [],
   "source": [
    "# Example of solution approach"
   ]
  },
  {
   "cell_type": "markdown",
   "id": "f37acd6b-863d-45cb-be39-20496ded3a54",
   "metadata": {},
   "source": [
    "Please use LaTeX for all mathematics, such as:\n",
    "\n",
    "$$\n",
    "f(x) = \\int_{-\\infty}^{\\infty} e^{-x^2} dx\n",
    "$$"
   ]
  },
  {
   "cell_type": "code",
   "execution_count": null,
   "id": "9563a116-b832-4a8b-aa2f-77715db12af4",
   "metadata": {},
   "outputs": [],
   "source": [
    "# Use any python libraries that you like"
   ]
  }
 ],
 "metadata": {
  "kernelspec": {
   "display_name": "Python 3 (ipykernel)",
   "language": "python",
   "name": "python3"
  },
  "language_info": {
   "codemirror_mode": {
    "name": "ipython",
    "version": 3
   },
   "file_extension": ".py",
   "mimetype": "text/x-python",
   "name": "python",
   "nbconvert_exporter": "python",
   "pygments_lexer": "ipython3",
   "version": "3.10.4"
  }
 },
 "nbformat": 4,
 "nbformat_minor": 5
}
