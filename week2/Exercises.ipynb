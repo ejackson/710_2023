{
 "cells": [
  {
   "cell_type": "markdown",
   "id": "3168caee-b6de-41a9-9630-1f4323c61af0",
   "metadata": {},
   "source": [
    "# Week 2 Exercises\n",
    "\n",
    "These exercises are intended to increase your familiarity with python and the concepts of the course"
   ]
  },
  {
   "cell_type": "markdown",
   "id": "3a36c1b2-675b-4ecb-80bd-009a0fefef02",
   "metadata": {},
   "source": [
    "## Evil Monty Hall\n",
    "\n",
    "Consider the Monty Hall problem covered in class.  \n",
    "\n",
    "1.  Write a simulation for an extended version where there are a total of four doors, rather than 3.  There is one car and 3 goats and the setup is the same: the contestant opens a door, Monty opens a different one revealing a goat and the contestant gets to stick or switch.   What is the probability of winning (opening a door with a car behind it) if the contestant switches or sticks.   Do it by simulation, not math.\n",
    "\n",
    "2.  Same as above, but now there are 2 goats and 2 cars randomly hidden behind the four doors.  Again, simulate the probability of winning a car (any of two) if the contestant switches or sticks."
   ]
  },
  {
   "cell_type": "code",
   "execution_count": null,
   "id": "cd1d83fe-afe6-4581-9760-ccb5f3fb76a2",
   "metadata": {},
   "outputs": [],
   "source": [
    "# Python here."
   ]
  },
  {
   "cell_type": "markdown",
   "id": "1400fa27-1638-4a6c-a0ea-69241958614f",
   "metadata": {},
   "source": [
    "## Base Rate Fallacy\n",
    "\n",
    "We looked at Bayes Rule in the lecture, this exercise applies it.\n",
    "\n",
    "The engineers over at Google have created an AI algorithm that can detect a certain disease using an iPhone app. It has a true positive rate of 99% and a fales positive rate of 5%.\n",
    "\n",
    "$$ P(T^+|D^+) = 0.99$$\n",
    "$$ P(T^+|D^-) = 0.05$$\n",
    "\n",
    "where $T^+$ is the event of a positive test (on the app) for a person, and $D^+$ is the event that a person has SCD, and $D^-$ is the event that a person does not have SCD. \n",
    "\n",
    "In the general population the prevalence of the disease is 1 in about 100,000, ie $P(D^+) = \\frac{1}{100000}$\n",
    "\n",
    "So, if a randomly selected persons runs the app and it comes back positive, what is the probability that you have the SCD  ?\n",
    "\n",
    "1.  Solve using math\n",
    "\n",
    "2.  Solve using simulation\n"
   ]
  },
  {
   "cell_type": "markdown",
   "id": "abd863da-50f6-45ac-83db-746b370073eb",
   "metadata": {},
   "source": [
    "Math here"
   ]
  },
  {
   "cell_type": "code",
   "execution_count": null,
   "id": "b55ef0d4-4f60-4db9-b7a3-6391a0043020",
   "metadata": {},
   "outputs": [],
   "source": [
    "# Python here"
   ]
  },
  {
   "cell_type": "markdown",
   "id": "0e1f29db-e0fa-4bd8-9c11-60da9b81c4d0",
   "metadata": {},
   "source": [
    "Extra credit.   This disease is actually Sickle Cell Disease where the prevalence in the African American Community is much higher: 1 in 365.   So if you are African American and the test comes back positive, what is the probability you have the disease ?\n",
    "\n",
    "3. Solve with math\n",
    "\n",
    "4. Solve using simulation\n",
    "\n",
    "5. Discuss some implications (a single paragraph, tops)"
   ]
  },
  {
   "cell_type": "markdown",
   "id": "5c3691b7-f3e0-4c69-aeda-2e59ba6fdaac",
   "metadata": {},
   "source": [
    "Math here"
   ]
  },
  {
   "cell_type": "code",
   "execution_count": null,
   "id": "3940adaf-9ba1-492c-884e-9fbf183d3843",
   "metadata": {},
   "outputs": [],
   "source": [
    "# Python here"
   ]
  },
  {
   "cell_type": "markdown",
   "id": "26d7e2e1-727c-4e92-9946-b6048c9e3057",
   "metadata": {},
   "source": [
    "Discussion here"
   ]
  },
  {
   "cell_type": "markdown",
   "id": "44b909af-53a8-4855-9f29-bbda2fedc540",
   "metadata": {},
   "source": [
    "# Not so Lucky Luke\n",
    "\n",
    "Luke gambling with a biased coin, which has a probability of 40% of coming up Heads, and Tails is considered a win. \n",
    "\n",
    "1.  What is the probability that Luke wins (flips Tails) on the first flip ?\n",
    "2.  What is the probability that Luke loses 3 flips (Heads) in a row, before winning (tails) on the fourth ?\n",
    "3.  If on the fourth flip he gets Heads again!  What is the probability that next flip will come up Heads ?\n",
    "\n",
    "Solve however you like."
   ]
  }
 ],
 "metadata": {
  "kernelspec": {
   "display_name": "Python 3 (ipykernel)",
   "language": "python",
   "name": "python3"
  },
  "language_info": {
   "codemirror_mode": {
    "name": "ipython",
    "version": 3
   },
   "file_extension": ".py",
   "mimetype": "text/x-python",
   "name": "python",
   "nbconvert_exporter": "python",
   "pygments_lexer": "ipython3",
   "version": "3.10.4"
  }
 },
 "nbformat": 4,
 "nbformat_minor": 5
}
