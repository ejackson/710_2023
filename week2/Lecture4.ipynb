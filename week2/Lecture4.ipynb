{
 "cells": [
  {
   "cell_type": "markdown",
   "id": "0ffa9e23-231b-4ba5-9b7e-a3b628b873e6",
   "metadata": {},
   "source": [
    "# Towards the Random Variable\n",
    "## Recap\n",
    "\n",
    "Sample Space $\\Omega$ is the set of all possible outcomes of the experiment.  \n",
    "An outcome $E \\in \\Omega$ is a proper subset of $\\Omega$. This includes discrete elements. \n",
    "\n",
    "Loosely speaking the probability of the event $P(\\omega)$ is the relative size of this set to the sample space: $P(E)=\\frac{|E|}{|\\Omega|}=\\sum_{\\omega \\in E}P(\\omega)$  \n",
    "\n",
    "The pain we start to feel is that sets are hard to math on - we want to get to numbers so we can do math.  That's why we need:\n",
    "\n",
    "## Random Variables\n",
    "A random variable $X$ is a function mapping $\\Omega$ to $\\mathbb{R}$: $X: \\Omega \\mapsto \\mathbb{R}$.  \n",
    "Intuitively, so far any $E \\in \\Omega$ the random variable is a function, $f(E)$ which returns a real number.  There's fiddly detail, but this is the gist. "
   ]
  },
  {
   "cell_type": "markdown",
   "id": "44c80f7e-8044-48e2-9441-cb3909fc90a2",
   "metadata": {},
   "source": [
    "So lets play with it, by rolling dice.  The roll of the die is the random event, and the outcome of gambling function in the random variable (RV)."
   ]
  },
  {
   "cell_type": "code",
   "execution_count": 1,
   "id": "bb9a5589-88d7-4215-b9fb-70077e1ae087",
   "metadata": {
    "tags": []
   },
   "outputs": [],
   "source": [
    "import random as r\n",
    "import itertools as i\n",
    "import numpy as np\n",
    "import matplotlib.pyplot as plt\n",
    "from math import comb"
   ]
  },
  {
   "cell_type": "code",
   "execution_count": 2,
   "id": "13376c8a-fe3a-41b7-9148-9978e23c9924",
   "metadata": {},
   "outputs": [],
   "source": [
    "# Generic sampling function, The idea here is to use python's sampling instead of trying to get it right\n",
    "# ourselves.   Important later as sampling can be very hard indeed.\n",
    "\n",
    "# A random event - a sample from my set.  \n",
    "def easy_sample(sample_space, num_samples=1):\n",
    "    if num_samples==1:\n",
    "        return r.choices(sample_space, k=1)[0]           # watchout, r.sample is NOT what we want WHY\n",
    "    else:\n",
    "        return r.choices(sample_space, k=num_samples)\n"
   ]
  },
  {
   "cell_type": "code",
   "execution_count": 3,
   "id": "76cb4bbe-4241-42ef-bf7d-093da6b278ff",
   "metadata": {},
   "outputs": [
    {
     "data": {
      "text/plain": [
       "[1000, -1000, 1000, 1000, 1000, -1000, 1000, -1000, 1000, -1000]"
      ]
     },
     "execution_count": 3,
     "metadata": {},
     "output_type": "execute_result"
    }
   ],
   "source": [
    "# Adlibbing always leads to pain, but lets do it anyway\n",
    "# Non-numerical sample space\n",
    "coin = [\"H\", \"T\"]\n",
    "\n",
    "def heads_i_win(c):\n",
    "    if c==\"H\":\n",
    "        return 1000\n",
    "    else:\n",
    "        return -1000\n",
    "\n",
    "[heads_i_win(c) for c in r.choices(coin, k=10)]"
   ]
  },
  {
   "cell_type": "code",
   "execution_count": 4,
   "id": "24c73f63-83a7-4b92-887e-103a106d92ef",
   "metadata": {},
   "outputs": [
    {
     "data": {
      "text/plain": [
       "[5, 3, 5, 4, 6, 4]"
      ]
     },
     "execution_count": 4,
     "metadata": {},
     "output_type": "execute_result"
    }
   ],
   "source": [
    "# Specialize to rolling a die\n",
    "\n",
    "# The sample space\n",
    "single_die = [1,2,3,4,5,6]\n",
    "\n",
    "# A series of random events\n",
    "def roll_die(n=1):\n",
    "    return easy_sample(single_die, n)\n",
    "\n",
    "roll_die(6)"
   ]
  },
  {
   "cell_type": "code",
   "execution_count": 5,
   "id": "14355bd4-ff34-4dc3-aece-aa15328f37c2",
   "metadata": {},
   "outputs": [
    {
     "name": "stdout",
     "output_type": "stream",
     "text": [
      "[4, 2, 4, 3, 2, 1, 6, 6, 5, 6]\n"
     ]
    },
    {
     "data": {
      "text/plain": [
       "[16, 4, 16, 9, 4, 1, 36, 36, 25, 36]"
      ]
     },
     "execution_count": 5,
     "metadata": {},
     "output_type": "execute_result"
    }
   ],
   "source": [
    "# Basic RVs\n",
    "def face_value(r):\n",
    "    return r\n",
    "\n",
    "def square_of_face(r):\n",
    "    return r*r\n",
    "\n",
    "def silly_rv(r):\n",
    "    return r+r/3\n",
    "\n",
    "#[face_value(r) for r in roll_die(10)]\n",
    "\n",
    "rs = roll_die(10)\n",
    "print(rs)\n",
    "\n",
    "[square_of_face(r) for r in rs]"
   ]
  },
  {
   "cell_type": "code",
   "execution_count": 6,
   "id": "1c45f1e7-7b0f-4df2-bc87-9f2af509b4a2",
   "metadata": {},
   "outputs": [
    {
     "data": {
      "text/plain": [
       "[-100, -100, 1000, -100, -100, 1000, -100, 1000, -100, -100]"
      ]
     },
     "execution_count": 6,
     "metadata": {},
     "output_type": "execute_result"
    }
   ],
   "source": [
    "# Gambling - the payoff is the random variable X\n",
    "def gamble(n):     # Its just a function\n",
    "    if n==2:\n",
    "        return 1000\n",
    "    else:\n",
    "        return -100\n",
    "\n",
    "[gamble(r) for r in roll_die(10)]"
   ]
  },
  {
   "cell_type": "markdown",
   "id": "0ffd2c3e-cf6a-4bdf-9ddf-5aa5d237e266",
   "metadata": {},
   "source": [
    "# Two dice game"
   ]
  },
  {
   "cell_type": "code",
   "execution_count": 7,
   "id": "8a6350a2-d6c6-4a28-baee-5277a9ace09a",
   "metadata": {
    "tags": []
   },
   "outputs": [
    {
     "data": {
      "text/plain": [
       "[(1, 1),\n",
       " (1, 2),\n",
       " (1, 3),\n",
       " (1, 4),\n",
       " (1, 5),\n",
       " (1, 6),\n",
       " (2, 1),\n",
       " (2, 2),\n",
       " (2, 3),\n",
       " (2, 4),\n",
       " (2, 5),\n",
       " (2, 6),\n",
       " (3, 1),\n",
       " (3, 2),\n",
       " (3, 3),\n",
       " (3, 4),\n",
       " (3, 5),\n",
       " (3, 6),\n",
       " (4, 1),\n",
       " (4, 2),\n",
       " (4, 3),\n",
       " (4, 4),\n",
       " (4, 5),\n",
       " (4, 6),\n",
       " (5, 1),\n",
       " (5, 2),\n",
       " (5, 3),\n",
       " (5, 4),\n",
       " (5, 5),\n",
       " (5, 6),\n",
       " (6, 1),\n",
       " (6, 2),\n",
       " (6, 3),\n",
       " (6, 4),\n",
       " (6, 5),\n",
       " (6, 6)]"
      ]
     },
     "execution_count": 7,
     "metadata": {},
     "output_type": "execute_result"
    }
   ],
   "source": [
    "# First lets define the sample space, which may not be how we usually think about this\n",
    "dice = list(i.product(single_die, single_die))\n",
    "dice"
   ]
  },
  {
   "cell_type": "code",
   "execution_count": 8,
   "id": "3f48a892-14ec-4557-ac36-b479fe7bfd43",
   "metadata": {},
   "outputs": [
    {
     "data": {
      "text/plain": [
       "[(5, 4), (3, 6), (5, 3)]"
      ]
     },
     "execution_count": 8,
     "metadata": {},
     "output_type": "execute_result"
    }
   ],
   "source": [
    "# Now sample from the space\n",
    "def roll_dice(n=1):\n",
    "    return easy_sample(dice, n)\n",
    "\n",
    "roll_dice(3)"
   ]
  },
  {
   "cell_type": "code",
   "execution_count": 9,
   "id": "790c2d64-fe27-40fe-ae52-96b1341c1022",
   "metadata": {},
   "outputs": [
    {
     "data": {
      "text/plain": [
       "[1000, 1000, 1000, 1000, 1000, 1000, 1000, 1000, 1000, 1000]"
      ]
     },
     "execution_count": 9,
     "metadata": {},
     "output_type": "execute_result"
    }
   ],
   "source": [
    "def max_dice(dice):\n",
    "    a, b = dice\n",
    "    return max(dice)\n",
    "\n",
    "# RV on a double roll - note how it goes from a complex thing to a number in R\n",
    "def gamble2(dice):\n",
    "    a, b = dice\n",
    "    if a+b>=4:\n",
    "        return 1000\n",
    "    else:\n",
    "        return -100\n",
    "    \n",
    "[gamble2(r) for r in roll_dice(10)]"
   ]
  },
  {
   "cell_type": "markdown",
   "id": "db4b32e3-d6b1-4fe3-b9fe-3b204237b465",
   "metadata": {},
   "source": [
    "# Distributions\n",
    "\n",
    "Up to this point we have been sampling, but it becomes cumbersome to deal with 1000 samples, and not super informative.  So we need to start summarizing: enter distributions and statistics"
   ]
  },
  {
   "cell_type": "markdown",
   "id": "51833e94-bbbe-41ee-989b-7ea4f78a676b",
   "metadata": {},
   "source": [
    "## Probability Mass Function\n",
    "In the discrete case, for RV $X$, the probability mass function (pmf for short) is defined as $$P(X=a)$$ which is shortened to $p_X(a)$ and even $p(a)$ when context is clear but means the same thing.  It reads \"the probability that X equals a\", as such $0 \\le p(a) \\le 1$.\n",
    "\n",
    "Note that probabilities are defined on events to $X=a$ means the event $\\{\\omega | X(\\omega)=a  \\}$.\n",
    "\n",
    "We know that we calculate probabilities by relative sizes of sets, so lets do that explicitly"
   ]
  },
  {
   "cell_type": "code",
   "execution_count": 10,
   "id": "5b8b3e99-6176-4e83-8fa3-d386cc0ef749",
   "metadata": {
    "jupyter": {
     "source_hidden": true
    },
    "tags": []
   },
   "outputs": [
    {
     "data": {
      "text/plain": [
       "{1000: 0.5, -1000: 0.5}"
      ]
     },
     "execution_count": 10,
     "metadata": {},
     "output_type": "execute_result"
    }
   ],
   "source": [
    "def pmf(sample_space, random_variable_function):    \n",
    "    # Apply the random variable function to the sample space\n",
    "    transformed_values = [random_variable_function(s) for s in sample_space]\n",
    "    \n",
    "    # Count the frequency of each value\n",
    "    value_counts = {}\n",
    "    for value in transformed_values:\n",
    "        if value in value_counts:\n",
    "            value_counts[value] += 1\n",
    "        else:\n",
    "            value_counts[value] = 1\n",
    "    \n",
    "    # Calculate the PMF\n",
    "    total_elements = len(sample_space)\n",
    "    pmf_dict = {k: v / total_elements for k, v in value_counts.items()}\n",
    "    \n",
    "    return pmf_dict\n",
    "\n",
    "#\n",
    "#pmf(single_die, face_value)\n",
    "pmf(dice, gamble2)\n",
    "pmf(coin, heads_i_win)"
   ]
  },
  {
   "cell_type": "markdown",
   "id": "d9f3c084-7eef-47a9-ac3d-c552ba145b13",
   "metadata": {},
   "source": [
    "## Cumulative Distribution Function (CDF)\n",
    "This is literally just the running sum (cumulant) of the PMF.\n",
    "$$ F(a) = P(X\\le a)$$"
   ]
  },
  {
   "cell_type": "code",
   "execution_count": 11,
   "id": "d7e77c2d-2288-4ca9-be45-cb818c0bf9d9",
   "metadata": {},
   "outputs": [
    {
     "data": {
      "text/plain": [
       "{1: 0.16666666666666666,\n",
       " 2: 0.3333333333333333,\n",
       " 3: 0.5,\n",
       " 4: 0.6666666666666666,\n",
       " 5: 0.8333333333333333,\n",
       " 6: 0.9999999999999999}"
      ]
     },
     "execution_count": 11,
     "metadata": {},
     "output_type": "execute_result"
    }
   ],
   "source": [
    "def cdf(pmf):\n",
    "    sorted_items = sorted(pmf.items())\n",
    "    cumulative_probability = 0\n",
    "    cdf_dict = {}\n",
    "\n",
    "    for value, probability in sorted_items:\n",
    "        cumulative_probability += probability\n",
    "        cdf_dict[value] = cumulative_probability\n",
    "\n",
    "    return cdf_dict\n",
    "\n",
    "cdf(pmf(single_die, face_value))\n",
    "#cdf(pmf(dice, gamble2))\n"
   ]
  },
  {
   "cell_type": "code",
   "execution_count": 12,
   "id": "db46c28a-408f-4719-9e11-bc014dc906d9",
   "metadata": {},
   "outputs": [
    {
     "data": {
      "image/png": "[encoded data removed]",
      "text/plain": [
       "<Figure size 432x288 with 1 Axes>"
      ]
     },
     "metadata": {
      "needs_background": "light"
     },
     "output_type": "display_data"
    },
    {
     "data": {
      "image/png": "[encoded data removed]",
      "text/plain": [
       "<Figure size 432x288 with 1 Axes>"
      ]
     },
     "metadata": {
      "needs_background": "light"
     },
     "output_type": "display_data"
    }
   ],
   "source": [
    "def plot_distribution(data_dict, distribution_type=\"pmf\"):\n",
    "    # Ensure valid distribution type\n",
    "    if distribution_type not in [\"pmf\", \"cdf\"]:\n",
    "        raise ValueError(\"distribution_type must be either 'pmf' or 'cdf'\")\n",
    "    \n",
    "    # Sort the data for plotting\n",
    "    sorted_items = sorted(data_dict.items())\n",
    "    x, y = zip(*sorted_items)\n",
    "    \n",
    "    # Plot based on distribution type\n",
    "    plt.bar(x, y, width=-0.4, align='edge' if distribution_type == \"pmf\" else 'center')\n",
    "    plt.xlabel('Value')\n",
    "    plt.ylabel('Probability')\n",
    "    plt.title(f'{distribution_type.upper()} Plot')\n",
    "    \n",
    "    if distribution_type == \"cdf\":\n",
    "        plt.step(x, y, where='post', color='blue', linestyle='dashed')\n",
    "\n",
    "    plt.show()\n",
    "\n",
    "# Example usage:\n",
    "pmf_example = pmf(single_die, face_value)\n",
    "cdf_example = cdf(pmf_example)\n",
    "\n",
    "plot_distribution(pmf_example, \"pmf\")  # plots PMF\n",
    "plot_distribution(cdf_example, \"cdf\")  # plots CDF\n"
   ]
  },
  {
   "cell_type": "code",
   "execution_count": 13,
   "id": "6728f6a8-28f3-4707-a191-6374df01c72b",
   "metadata": {
    "jupyter": {
     "source_hidden": true
    },
    "tags": []
   },
   "outputs": [],
   "source": [
    "import matplotlib.pyplot as plt\n",
    "import seaborn as sns\n",
    "\n",
    "def plot_pretty_distribution(data, title=\"Pretty Distribution\", color=\"royalblue\"):\n",
    "    \"\"\"\n",
    "    Plots a pretty histogram with KDE.\n",
    "    \n",
    "    Args:\n",
    "    - data (list or np.array): The data points to plot\n",
    "    - title (str): The title of the plot\n",
    "    - color (str): Color for the plot elements\n",
    "    \n",
    "    Returns:\n",
    "    None\n",
    "    \"\"\"\n",
    "    \n",
    "    # Set the aesthetics for the plot\n",
    "    sns.set_style(\"whitegrid\")\n",
    "    sns.despine(left=True)\n",
    "    \n",
    "    # Create the histogram with KDE\n",
    "    sns.histplot(data, kde=True, color=color, bins=30)\n",
    "    \n",
    "    plt.title(title, fontsize=16)\n",
    "    plt.xlabel(\"Value\", fontsize=14)\n",
    "    plt.ylabel(\"Frequency\", fontsize=14)\n",
    "    plt.tight_layout()\n",
    "    plt.show()\n",
    "\n",
    "\n",
    "#data = np.random.randn(1000)  # Random data from a normal distribution \n",
    "#plot_pretty_distribution(data, \"Normal Distribution\")"
   ]
  },
  {
   "cell_type": "code",
   "execution_count": 14,
   "id": "c477fc78-4e66-488a-9e00-14480f931570",
   "metadata": {
    "jupyter": {
     "source_hidden": true
    },
    "tags": []
   },
   "outputs": [],
   "source": [
    "import numpy as np\n",
    "import matplotlib.pyplot as plt\n",
    "import seaborn as sns\n",
    "\n",
    "def plot_pretty_distribution(data, title=\"Pretty Distribution\", color=\"royalblue\"):\n",
    "    \"\"\"\n",
    "    Plots a pretty histogram with KDE.\n",
    "    \n",
    "    Args:\n",
    "    - data (list or np.array): The data points to plot\n",
    "    - title (str): The title of the plot\n",
    "    - color (str): Color for the plot elements\n",
    "    \n",
    "    Returns:\n",
    "    None\n",
    "    \"\"\"\n",
    "    \n",
    "    # Set the aesthetics for the plot\n",
    "    sns.set_style(\"whitegrid\")\n",
    "    sns.despine(left=True)\n",
    "    \n",
    "    # Create the histogram with KDE\n",
    "    sns.histplot(data, kde=True, color=color, bins=30, kde_kws={\"shade\": True})\n",
    "    \n",
    "    plt.title(title, fontsize=16)\n",
    "    plt.xlabel(\"Value\", fontsize=14)\n",
    "    plt.ylabel(\"Frequency\", fontsize=14)\n",
    "    plt.tight_layout()\n",
    "    plt.show()\n",
    "\n",
    "# Example Usage:\n",
    "# data = np.random.randn(1000)  # Random data from a normal distribution\n",
    "# plot_pretty_distribution(data, \"Normal Distribution\")"
   ]
  },
  {
   "cell_type": "markdown",
   "id": "25852199-c5b3-4e3c-b137-703fcbfd3988",
   "metadata": {},
   "source": [
    "# Distribution Zoo\n",
    "Now that we know what distributions are, lets look at some famous and useful examples.\n",
    "\n",
    "## Bernoulli Distribution\n",
    "This is the distribution of win/loss with a certain probability, over a *single* event.  \n",
    "\n",
    "$$ X \\in \\{0, 1\\}$$   \n",
    "\n",
    "and  \n",
    "\n",
    "$$P(X=1) = p, P(X=0) = 1-p$$ \n",
    "\n",
    "Think drawing from an urn, flipping a coint etc.   Lets see it:"
   ]
  },
  {
   "cell_type": "code",
   "execution_count": 15,
   "id": "03603874-e3b7-4b31-b5a3-2f2e73f753ac",
   "metadata": {},
   "outputs": [
    {
     "name": "stdout",
     "output_type": "stream",
     "text": [
      "{0: 0.010000000000000009, 1: 0.99}\n"
     ]
    },
    {
     "data": {
      "image/png": "[encoded data removed]",
      "text/plain": [
       "<Figure size 432x288 with 1 Axes>"
      ]
     },
     "metadata": {
      "needs_background": "light"
     },
     "output_type": "display_data"
    },
    {
     "data": {
      "image/png": "[encoded data removed]",
      "text/plain": [
       "<Figure size 432x288 with 1 Axes>"
      ]
     },
     "metadata": {
      "needs_background": "light"
     },
     "output_type": "display_data"
    }
   ],
   "source": [
    "# Bernoulli\n",
    "def pmf_ber(p):\n",
    "    return {0:(1-p), 1:p}\n",
    "\n",
    "d = pmf_ber(0.99)\n",
    "print(d)\n",
    "plot_distribution(d, \"pmf\")  # plots PMF\n",
    "plot_distribution(cdf(d), \"cdf\")  # plots CDF"
   ]
  },
  {
   "cell_type": "code",
   "execution_count": 16,
   "id": "f1d1faeb-4b5e-4631-ba94-4f9420f37cc8",
   "metadata": {},
   "outputs": [],
   "source": [
    "# Heads are success, Tails are failure\n",
    "# P(H) = 0.7\n",
    "# Probability of the sequence \"TTH\" is 0.3 * 0.3 * 0.7 = (1-p)^(n-k) * p ^ k\n",
    "# and the probability of \"THT\" is 0.3 * 0.7 * 0.3\n",
    "# \"HTT\" also 0.7 * 0.3 * 0.3"
   ]
  },
  {
   "cell_type": "markdown",
   "id": "32e0f5d0-7714-4d1e-b560-fdf87e8135a0",
   "metadata": {},
   "source": [
    "## Binomial\n",
    "\n",
    "$X \\sim Bin(n, p)$ is probability of $k$ successes in $n$ sequential Bernoulli experiments, each with probability $p$ of success.  \n",
    "$$ X \\sim Bin(n,p) \\implies P(X=k) = {n \\choose k}p^k(1-p)^{(n-k)}$$\n",
    "\n",
    "We know this because each of the $k$ 'success' happens with independent probability $k$, and the $(n-k)$ failures with probability $1-p$.  They're Bernoullis, remember.  So this is th probabilitiy for any n length sequence of k success, and there are many permutations.  But we don't care about order, just number, so we want combinations. From last week we know that there an ${n \\choose k}$ combinations of such sequences.  So we need to multiply the probability of any individual sequence of $k$ success with the total number of such.\n",
    "\n",
    "If tails are 'success' then these sequences are the same as far as Binomal is concerned TTH, THT, HTT "
   ]
  },
  {
   "cell_type": "code",
   "execution_count": 37,
   "id": "1b7189a5-8822-4bf7-aa1a-5dde8b1683bc",
   "metadata": {},
   "outputs": [
    {
     "data": {
      "text/plain": [
       "{'k1': 'v1', 'k2': 'v2', 'k3': 'v3'}"
      ]
     },
     "execution_count": 37,
     "metadata": {},
     "output_type": "execute_result"
    }
   ],
   "source": [
    "dict(zip(['k1', 'k2', 'k3'], ['v1', 'v2', 'v3']))"
   ]
  },
  {
   "cell_type": "code",
   "execution_count": 36,
   "id": "541a61c2-4bdd-4149-9f78-0c2de6db8c2b",
   "metadata": {},
   "outputs": [
    {
     "name": "stdout",
     "output_type": "stream",
     "text": [
      "{0: 9.5367431640625e-07, 1: 1.9073486328125e-05, 2: 0.0001811981201171875, 3: 0.001087188720703125, 4: 0.004620552062988281, 5: 0.0147857666015625, 6: 0.03696441650390625, 7: 0.0739288330078125, 8: 0.12013435363769531, 9: 0.16017913818359375, 10: 0.17619705200195312, 11: 0.16017913818359375, 12: 0.12013435363769531, 13: 0.0739288330078125, 14: 0.03696441650390625, 15: 0.0147857666015625, 16: 0.004620552062988281, 17: 0.001087188720703125, 18: 0.0001811981201171875, 19: 1.9073486328125e-05, 20: 9.5367431640625e-07}\n"
     ]
    },
    {
     "data": {
      "image/png": "[encoded data removed]",
      "text/plain": [
       "<Figure size 432x288 with 1 Axes>"
      ]
     },
     "metadata": {
      "needs_background": "light"
     },
     "output_type": "display_data"
    },
    {
     "data": {
      "image/png": "[encoded data removed]",
      "text/plain": [
       "<Figure size 432x288 with 1 Axes>"
      ]
     },
     "metadata": {
      "needs_background": "light"
     },
     "output_type": "display_data"
    }
   ],
   "source": [
    "# Binomial\n",
    "def pmf_bin(n, p):\n",
    "    ks = range(0, n+1)\n",
    "    return dict(list(zip(ks, [comb(n, k)*p**(k)*(1-p)**(n-k) for k in ks])))\n",
    "\n",
    "d = pmf_bin(20, 0.5)\n",
    "print(d)\n",
    "plot_distribution(d, \"pmf\")  # plots PMF\n",
    "plot_distribution(cdf(d), \"cdf\")  # plots CDF"
   ]
  },
  {
   "cell_type": "code",
   "execution_count": 19,
   "id": "daacd5e0-e839-46d0-95b4-7af212e08bad",
   "metadata": {},
   "outputs": [
    {
     "data": {
      "text/plain": [
       "{0: 9.5367431640625e-07,\n",
       " 1: 1.9073486328125e-05,\n",
       " 2: 0.0001811981201171875,\n",
       " 3: 0.001087188720703125,\n",
       " 4: 0.004620552062988281,\n",
       " 5: 0.0147857666015625,\n",
       " 6: 0.03696441650390625,\n",
       " 7: 0.0739288330078125,\n",
       " 8: 0.12013435363769531,\n",
       " 9: 0.16017913818359375,\n",
       " 10: 0.17619705200195312,\n",
       " 11: 0.16017913818359375,\n",
       " 12: 0.12013435363769531,\n",
       " 13: 0.0739288330078125,\n",
       " 14: 0.03696441650390625,\n",
       " 15: 0.0147857666015625,\n",
       " 16: 0.004620552062988281,\n",
       " 17: 0.001087188720703125,\n",
       " 18: 0.0001811981201171875,\n",
       " 19: 1.9073486328125e-05,\n",
       " 20: 9.5367431640625e-07}"
      ]
     },
     "execution_count": 19,
     "metadata": {},
     "output_type": "execute_result"
    }
   ],
   "source": [
    "d"
   ]
  },
  {
   "cell_type": "markdown",
   "id": "5d17a81a-5ca9-4bb9-8c51-66e20dc52b9b",
   "metadata": {},
   "source": [
    "## Geometric Distribution\n",
    "$P(X=k) \\sim geo(p)$ represents the probability of $k$ sequential failures in a sequence of Bernoulli trials before the first success.  That is the distribution length of the runs of failure.   Here order matters, and there's only one way to get such a sequence, so the pmf comes out as.  \n",
    "\n",
    "$$\n",
    "X\\sim geo(p) \\implies P(X=k) = (1-p)^{k}p\n",
    "$$\n",
    "\n",
    "\n",
    "If tails are 'success' then these sequences are not the same as far as Binomal is concerned TTH, THT, HTT, HHT, HHHHHT etc."
   ]
  },
  {
   "cell_type": "code",
   "execution_count": 38,
   "id": "9b9f68f2-1ef3-4249-aa13-765a955944c3",
   "metadata": {},
   "outputs": [
    {
     "data": {
      "image/png": "[encoded data removed]",
      "text/plain": [
       "<Figure size 432x288 with 1 Axes>"
      ]
     },
     "metadata": {
      "needs_background": "light"
     },
     "output_type": "display_data"
    },
    {
     "data": {
      "image/png": "[encoded data removed]",
      "text/plain": [
       "<Figure size 432x288 with 1 Axes>"
      ]
     },
     "metadata": {
      "needs_background": "light"
     },
     "output_type": "display_data"
    },
    {
     "data": {
      "text/plain": [
       "{0: 0.25,\n",
       " 1: 0.1875,\n",
       " 2: 0.140625,\n",
       " 3: 0.10546875,\n",
       " 4: 0.0791015625,\n",
       " 5: 0.059326171875,\n",
       " 6: 0.04449462890625,\n",
       " 7: 0.0333709716796875,\n",
       " 8: 0.025028228759765625,\n",
       " 9: 0.01877117156982422,\n",
       " 10: 0.014078378677368164,\n",
       " 11: 0.010558784008026123,\n",
       " 12: 0.007919088006019592,\n",
       " 13: 0.005939316004514694,\n",
       " 14: 0.004454487003386021,\n",
       " 15: 0.0033408652525395155,\n",
       " 16: 0.0025056489394046366,\n",
       " 17: 0.0018792367045534775,\n",
       " 18: 0.001409427528415108,\n",
       " 19: 0.001057070646311331,\n",
       " 20: 0.0007928029847334983}"
      ]
     },
     "execution_count": 38,
     "metadata": {},
     "output_type": "execute_result"
    }
   ],
   "source": [
    "# Geomotric\n",
    "def pmf_geom(p, n=10):\n",
    "    ks = range(0, n+1)\n",
    "    return dict(zip(ks, [p*(1-p)**(k) for k in ks]))\n",
    "\n",
    "d = pmf_geom(0.25, n=20)\n",
    "plot_distribution(d, \"pmf\")  # plots PMF\n",
    "plot_distribution(cdf(d), \"cdf\")  # plots CDF\n",
    "d"
   ]
  },
  {
   "cell_type": "markdown",
   "id": "ce705f61-6c68-45f4-ab6f-58b2f5a361ff",
   "metadata": {},
   "source": [
    "## Uniform Distribution\n",
    "The distribution over equally likely events.  Useful to express ignorance or lack of preference.\n",
    "$$X\\sim\\textrm{uniform(N)} \\implies P(X=k)=1/N$$"
   ]
  },
  {
   "cell_type": "code",
   "execution_count": 21,
   "id": "868c1c0d-acca-4425-bdf6-6b5c532b04cf",
   "metadata": {},
   "outputs": [
    {
     "data": {
      "image/png": "[encoded data removed]",
      "text/plain": [
       "<Figure size 432x288 with 1 Axes>"
      ]
     },
     "metadata": {
      "needs_background": "light"
     },
     "output_type": "display_data"
    },
    {
     "data": {
      "image/png": "[encoded data removed]",
      "text/plain": [
       "<Figure size 432x288 with 1 Axes>"
      ]
     },
     "metadata": {
      "needs_background": "light"
     },
     "output_type": "display_data"
    }
   ],
   "source": [
    "# Uniform\n",
    "def pmf_unif(n):\n",
    "    ks = range(1, n+1)\n",
    "    return dict(zip(ks, [1/n for k in ks]))\n",
    "\n",
    "d = pmf_unif(20)\n",
    "plot_distribution(d, \"pmf\")  # plots PMF\n",
    "plot_distribution(cdf(d), \"cdf\")  # plots CDF"
   ]
  }
 ],
 "metadata": {
  "kernelspec": {
   "display_name": "Python 3 (ipykernel)",
   "language": "python",
   "name": "python3"
  },
  "language_info": {
   "codemirror_mode": {
    "name": "ipython",
    "version": 3
   },
   "file_extension": ".py",
   "mimetype": "text/x-python",
   "name": "python",
   "nbconvert_exporter": "python",
   "pygments_lexer": "ipython3",
   "version": "3.10.4"
  }
 },
 "nbformat": 4,
 "nbformat_minor": 5
}
