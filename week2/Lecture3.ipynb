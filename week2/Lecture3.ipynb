{
 "cells": [
  {
   "cell_type": "code",
   "execution_count": 1,
   "id": "f3751464-0ef0-45d9-bbaf-9de846c44a17",
   "metadata": {},
   "outputs": [],
   "source": [
    "# This is the lecture notebook for week 2\n",
    "import random\n",
    "#import random as r\n",
    "import itertools as i\n",
    "import numpy as np\n",
    "import matplotlib.pyplot as plt\n",
    "from math import comb"
   ]
  },
  {
   "cell_type": "markdown",
   "id": "5fe351c9-fa10-4c75-8d0a-8fcf2c18317e",
   "metadata": {},
   "source": [
    "# Conditional Probability\n",
    "\n",
    "$$ P(A|B) = \\frac{P(A \\cap B)}{P(B)} $$"
   ]
  },
  {
   "cell_type": "code",
   "execution_count": 62,
   "id": "98699f0f-8f59-450a-8ff1-c015823f8d18",
   "metadata": {},
   "outputs": [
    {
     "data": {
      "text/plain": [
       "0.25"
      ]
     },
     "execution_count": 62,
     "metadata": {},
     "output_type": "execute_result"
    }
   ],
   "source": [
    "c = ['H', 'T']\n",
    "W = {f\"{x}{y}{z}\" \n",
    "     for x in c \n",
    "     for y in c \n",
    "     for z in c}\n",
    "\n",
    "A = {w for w in W if w == \"TTT\"}\n",
    "B = {w for w in W if w[0] == 'T'}\n",
    "\n",
    "# P(A|B)\n",
    "P_AgivenB = len(set.intersection(A, B)) / len(B)\n",
    "P_AgivenB"
   ]
  },
  {
   "cell_type": "code",
   "execution_count": 63,
   "id": "0ec0f9d5-09fd-48cb-83ac-2260d9cc6b33",
   "metadata": {
    "tags": []
   },
   "outputs": [
    {
     "data": {
      "text/plain": [
       "'P_A: 12.5%, P_B: 25.0%'"
      ]
     },
     "execution_count": 63,
     "metadata": {},
     "output_type": "execute_result"
    }
   ],
   "source": [
    "# Sample space\n",
    "c = ['H', 'T']\n",
    "W = {f\"{x}{y}{z}\" \n",
    "     for x in c \n",
    "     for y in c \n",
    "     for z in c}\n",
    "\n",
    "A = {w for w in W if w == \"THH\"}\n",
    "B = {w for w in W if w[0] == 'T'}\n",
    "\n",
    "P_A = len(A) / len(W)\n",
    "P_AgivenB = len(set.intersection(A, B)) / len(B)\n",
    "f\"P_A: {P_A*100}%, P_B: {P_AgivenB*100}%\""
   ]
  },
  {
   "cell_type": "markdown",
   "id": "5dffc1a2-a10e-494c-b031-1a1609d97b08",
   "metadata": {},
   "source": [
    "# Law of Total Probability\n",
    "## Conditional Probability\n",
    "$$ P(A|B) = \\frac{P(A\\cap B)}{P(B)}$$\n",
    "## Multiplication Rule\n",
    "$$ P(A \\cap B)= P(A|B) \\cdot P(B) $$\n",
    "often written\n",
    "$$ P(A, B)= P(A|B) \\cdot P(B) $$\n",
    "\n",
    "## Law of Total Probability\n",
    "If $B_1 \\dots B_n$ are a proper partition of $\\Omega$, then\n",
    "$$ P(A) = P(A \\cap B_1) + P(A \\cap B_2) \\dots P(A \\cap B_n)$$\n",
    "$$ P(A) = P(A|B_1)P(B_1) + P(A|B_2)P(B_2) \\dots P(A|B_n)P(B_n)$$\n",
    "\n",
    "We'll see this later in Bayes Rule"
   ]
  },
  {
   "cell_type": "markdown",
   "id": "eaac1071-1037-41bb-b968-b8094aa8513a",
   "metadata": {},
   "source": [
    "# The Ancient Geeks and Their Urns"
   ]
  },
  {
   "cell_type": "code",
   "execution_count": 21,
   "id": "c7d0b6b0-4eff-4baf-939a-a64638956686",
   "metadata": {},
   "outputs": [],
   "source": [
    "balls = ['r', 'g']\n",
    "#urn = balls[0]*5\n",
    "urn = ['r', 'r', 'r', 'r', 'r', 'g', 'g']\n",
    "chc = random.choices(urn, k=10)   # With replacement\n",
    "# NOT THE SAME AS \n",
    "samp = random.sample(urn, k=3)   # Without replacement\n",
    "#urn[1:3]"
   ]
  },
  {
   "cell_type": "markdown",
   "id": "c29ce117-b2c6-47e6-bfa8-b76db6493802",
   "metadata": {},
   "source": [
    "# Dependent and Independent Events\n",
    "\n",
    "$$ A \\perp\\!\\!\\!\\perp B \\textrm{ if } P(A|B)=P(A)P(B)$$\n",
    "which makes sense because for this to be true $P(A|B)=P(A)$, ie $B$ occuring doesnt change prob of $A$ occuring."
   ]
  },
  {
   "cell_type": "markdown",
   "id": "b489ca09-ccdf-4fe6-a279-7b2d2ee5cefd",
   "metadata": {},
   "source": [
    "# Bayes Rule\n",
    "## Derivation from total probability\n",
    "\n",
    "$$P(B|A)P(A)= P(A \\cap B) = P(A|B)P(B)$$\n",
    "rearranging\n",
    "$$P(B|A) = \\frac{P(A|B)P(B)}{P(A)} = \\frac{P(B)P(A|B)}{P(A)}$$ \n",
    "or\n",
    "$$P(A|B) = \\frac{P(B|A)P(A)}{P(B)} = \\frac{P(A)P(B|A)}{P(B)}$$ \n",
    "\n",
    "## Why this matters\n",
    "Jumping to statistics for a second this is often arranged like this:\n",
    "$$P(\\theta|D) = \\frac{P(\\theta)P(D|\\theta)}{P(D)}$$\n",
    "where $D$ is the data and $\\theta$ is the paramaters of the model\n",
    "\n",
    "each term has a special name  \n",
    "\n",
    "$P(\\theta|D)$ is called the posterior  \n",
    "$P(\\theta)$ is the prior  \n",
    "$P(D|\\theta)$ is the likelihood  \n",
    "$P(D)$ is the evidence  \n",
    "\n",
    "## How to think about it\n",
    "So the way to think about the rule in words is: \"The probability of the parameters in light of the data is the probability of the parameters before you saw the data, multiplied by the probability of the data given those parameters, normalized by a magic factor to make it all sum to 1\""
   ]
  },
  {
   "cell_type": "markdown",
   "id": "75e4d5e5-36db-4786-a58c-8caf9e1dcb9e",
   "metadata": {},
   "source": [
    "# Monty Hall"
   ]
  },
  {
   "cell_type": "code",
   "execution_count": 94,
   "id": "95238141-1c76-48f7-98b3-a817c6bc2bfd",
   "metadata": {},
   "outputs": [
    {
     "name": "stdout",
     "output_type": "stream",
     "text": [
      "Probability of winning if you stick: 0.335\n",
      "Probability of winning if you switch: 0.665\n"
     ]
    }
   ],
   "source": [
    "def monty_hall_simulation(num_trials=1000):\n",
    "    stick_wins = 0\n",
    "    switch_wins = 0\n",
    "    \n",
    "    for _ in range(num_trials):\n",
    "        # All doors\n",
    "        doors = {1, 2, 3}\n",
    "\n",
    "        # Randomly place a car behind one door\n",
    "        car_position = random.choice(list(doors))\n",
    "        \n",
    "        # The contestant makes a random choice\n",
    "        contestant_choice = random.choice(list(doors))\n",
    "        \n",
    "        # Doors Monty can open to ensure he shows a smelly goat\n",
    "        monty_can_open = doors - {contestant_choice, car_position}\n",
    "        monty_opens = random.choice(list(monty_can_open))\n",
    "        \n",
    "        # The door that the contestant switches to if they choose to switch\n",
    "        switch_choice = (doors - {contestant_choice, monty_opens}).pop()\n",
    "        \n",
    "        # Check the outcomes\n",
    "        if contestant_choice == car_position:\n",
    "            stick_wins += 1\n",
    "        if switch_choice == car_position:\n",
    "            switch_wins += 1\n",
    "\n",
    "    print(f\"Probability of winning if you stick: {stick_wins/num_trials}\")\n",
    "    print(f\"Probability of winning if you switch: {switch_wins/num_trials}\")\n",
    "\n",
    "monty_hall_simulation()\n"
   ]
  },
  {
   "cell_type": "markdown",
   "id": "b5fa7623-87a7-486d-942a-d3f900574996",
   "metadata": {},
   "source": [
    "$$P(W|S) = P(W|S,C_1)P(C_1) + P(W|S, \\bar{C}_1)P(\\bar{C})_1$$\n",
    "$$P(W|S) = 1/3*0 + 2/3*1 = 2/3 $$"
   ]
  }
 ],
 "metadata": {
  "kernelspec": {
   "display_name": "Python 3 (ipykernel)",
   "language": "python",
   "name": "python3"
  },
  "language_info": {
   "codemirror_mode": {
    "name": "ipython",
    "version": 3
   },
   "file_extension": ".py",
   "mimetype": "text/x-python",
   "name": "python",
   "nbconvert_exporter": "python",
   "pygments_lexer": "ipython3",
   "version": "3.10.4"
  }
 },
 "nbformat": 4,
 "nbformat_minor": 5
}
