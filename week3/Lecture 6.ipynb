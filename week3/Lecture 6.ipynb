{
 "cells": [
  {
   "cell_type": "markdown",
   "id": "cec2aabb-f39e-4535-9f69-b98f2fde486a",
   "metadata": {},
   "source": [
    "# Continuous Distributions\n",
    "\n",
    "Up to now we've considered discrete RV, ie ones that assume values from a finite/countable set.  Now let's look at the much more common case of continues RVs. \n",
    "\n",
    "## Recap\n",
    "Sample Space $\\Omega$ is the set of all possible outcomes of the experiment.  \n",
    "An outcome $E \\in \\Omega$ is a proper subset of $\\Omega$. \n",
    "In discrete statistics $\\Omega$ has a finite number of elements, now we're going to go the case where $\\Omega$ has an infinite number of elements.\n",
    "\n",
    "Loosely speaking the probability of the event $P(\\omega)$ is the relative size of this set to the sample space: $P(E)=\\frac{|E|}{|\\Omega|}=\\sum_{\\omega \\in E}P(\\omega)$.  This is immediately concerning because any individual event will have zero probability. Roh Roh.\n",
    "\n",
    "First, lets recall some calculus"
   ]
  },
  {
   "cell_type": "markdown",
   "id": "c3417787-a0ad-4698-b302-ba003e3aa8d4",
   "metadata": {},
   "source": [
    "## Refresher on Continuity and Integration\n",
    "### Continuous and Discrete Numbers\n",
    "\n",
    "**Discrete numbers** are separated values that can be enumerated. The set of integers $\\mathbb{Z}$ is a common example of a set with discrete values.\n",
    "\n",
    "**Continuous numbers** refer to numbers that can take on any value within a range. The set of real numbers $\\mathbb{R}$ is a continuous set.\n",
    "\n",
    "The difference between continuous and discrete can often be visualized in graphs; a graph representing a discrete set of numbers will consist of isolated points, while a graph representing a continuous set of numbers will be a smooth curve.\n",
    "\n",
    "### Delta-Epsilon Definition\n",
    "\n",
    "In calculus, the **delta-epsilon definition** is used to precisely define limits, which are foundational to the concepts of continuity and integration. Here is the formal definition of a limit:\n",
    "\n",
    "$$\n",
    "\\lim_{{x \\to a}} f(x) = L \\text{ if for every } \\varepsilon > 0 \\text{ there exists a } \\delta > 0 \\text{ such that if } 0 < |x-a| < \\delta \\text{ then } |f(x) - L| < \\varepsilon\n",
    "$$\n",
    "\n",
    "This definition can also be used to define continuity at a point. A function $f(x)$ is continuous at $x = a$ if:\n",
    "\n",
    "$$\n",
    "\\lim_{{x \\to a}} f(x) = f(a)\n",
    "$$\n",
    "\n",
    "### Integration Arising from Delta-Epsilon Definition\n",
    "\n",
    "Integration can be connected to the delta-epsilon definition through the concept of the Riemann sum, which is a method for approximating the definite integral of a function over a specific interval.\n",
    "\n",
    "Using Riemann sums, the definite integral of a function $f(x)$ from $a$ to $b$ can be defined as:\n",
    "\n",
    "$$\n",
    "\\int_a^b f(x) dx = \\lim_{{n \\to \\infty}} \\sum_{{i=0}}^{n-1} f(x_i^*) \\Delta x\n",
    "$$\n",
    "\n",
    "where:\n",
    "- $n$ is the number of subdivisions of the interval $[a, b]$\n",
    "- $\\Delta x = \\frac{b-a}{n}$ is the width of each subdivision\n",
    "- $x_i^*$ is a point in the $i$-th subdivision (often chosen to be the right endpoint)\n",
    "\n",
    "Connecting this to the delta-epsilon definition, you could imagine shrinking $\\Delta x$ (which would be akin to making $\\delta$ smaller) to get a more accurate approximation of the integral (reducing the $\\varepsilon$ or \"error\").\n",
    "\n",
    "In essence, integration is about finding the limit of the Riemann sums as the number of subdivisions goes to infinity, giving us the exact total area under the curve of the function over the interval, which is analogous to finding the limit of a function at a point using the delta-epsilon definition."
   ]
  },
  {
   "cell_type": "markdown",
   "id": "3dee28e3-514e-4208-9d3d-ad66bbfe7814",
   "metadata": {},
   "source": [
    "# Continuous Distributions\n",
    "So in the same way as discrete RVs operate on finite sets, continuos RVs opperate on infinite sets.\n",
    "\n",
    "Potentially Infinite range in $\\mathbb{R}$:\n",
    "$$X \\in (-\\infty, \\infty)$$\n",
    "\n",
    "Only makes sense to talk about probablity of $X$ between values, such as $a$ and $b$ as\n",
    "$$P(X=a)=0, \\forall a$$\n",
    "because the set of potential values is infinite, hence the probability of any individual element is zero.  \n",
    "\n",
    "As a result talk in terms of $f(x)$ the Probability Density Function (PDF), rather than the PMF.  To get to a probability we need to integrate\n",
    "$$\n",
    "P(a\\le X\\le b) = \\int_a^b f(x)dx\n",
    "$$\n",
    "which is the probability that X lies within the range $[a,b]$\n",
    "\n",
    "To be valid the probability of the entire set must by 1 (ie, correct normalization)\n",
    "$$ \\int_{-\\infty}^{\\infty}f(x)dx = 1$$\n",
    "\n",
    "The most commonly enconutered continous RVs are the Gaussian (or Normal) and Exponential, which is a special case of the Gamma.\n"
   ]
  },
  {
   "cell_type": "markdown",
   "id": "7b95b03c-2e94-4f92-962f-7cca39bbaa1f",
   "metadata": {},
   "source": [
    "# Mean and Variance\n",
    "For a continuous random variable, we define its probability distribution through a probability density function (pdf), $ f(x) $, where $ x $ is a real number in the range of the variable. The mean (also known as the expected value) and the variance are central moments that describe the central tendency and the spread of the distribution, respectively.\n",
    "\n",
    "### 1. Mean (Expected Value)\n",
    "\n",
    "The mean or expected value of a continuous random variable $ X $ is given by:\n",
    "\n",
    "$$ \n",
    "\\mu = E[X] = \\int_{-\\infty}^{\\infty} x f(x) dx\n",
    "$$\n",
    "\n",
    "where:\n",
    "- $ \\mu $ is the mean\n",
    "- $ E[X] $ denotes the expected value of $ X $\n",
    "- $ f(x) $ is the probability density function of $ X $\n",
    "- $ x $ is a value in the random variable's domain\n",
    "\n",
    "### 2. Variance\n",
    "\n",
    "The variance of a continuous random variable $ X $, denoted as $ Var(X) $, is defined as:\n",
    "\n",
    "$$ \n",
    "\\sigma^2 = Var(X) = E[(X - \\mu)^2] = \\int_{-\\infty}^{\\infty} (x - \\mu)^2 f(x) dx\n",
    "$$\n",
    "\n",
    "where:\n",
    "- $ \\sigma^2 $ is the variance\n",
    "- $ \\mu $ is the mean of the distribution\n",
    "- $ f(x) $ is the probability density function of $ X $"
   ]
  },
  {
   "cell_type": "markdown",
   "id": "db24c96a-625e-4887-a8b0-fd40645392e7",
   "metadata": {},
   "source": [
    "# Making sense of what is to follow\n",
    "\n",
    "The discrete distribution we've encountered have strong, and clear intuition behind them.  The continuous ones that follow are are closely related.  Usually, we take the number of events to infinity, while maintaining some sense of rate or average.  Bear this in mind and be sure to connect what is otherwise esoretic math to intuition.  It all connects!"
   ]
  },
  {
   "cell_type": "markdown",
   "id": "58680786-eafb-4273-bbf6-f172093906ba",
   "metadata": {
    "tags": []
   },
   "source": [
    "## The Normal Distribution\n",
    "\n",
    "This is what everybody thinks of when you say distribution.  It is the most commonly encountered and broadly utilized distribution of them all.\n",
    "\n",
    "### Probability Density Function (PDF)\n",
    "\n",
    "The probability density function of the Gaussian distribution is given by:\n",
    "\n",
    "$$\n",
    "f(x; \\mu, \\sigma^2) = \\frac{1}{\\sigma \\sqrt{2\\pi}} e^{-\\frac{1}{2} \\left( \\frac{x - \\mu}{\\sigma} \\right)^2}\n",
    "$$\n",
    "\n",
    "Where:\n",
    "- $f(x; \\mu, \\sigma^2)$ is the value of the PDF at $x$\n",
    "- $\\mu$ is the mean or expectation of the distribution\n",
    "- $\\sigma$ is the standard deviation\n",
    "- $\\sigma^2$ is the variance\n",
    "- $x$ is the variable we are interested in\n",
    "- $e$ is the base of the natural logarithm, approximately equal to 2.71828\n",
    "- $\\pi$ is a mathematical constant, approximately equal to 3.14159\n",
    "\n",
    "### Cumulative Distribution Function (CDF)\n",
    "\n",
    "The cumulative distribution function of the Gaussian distribution, while it doesn't have a closed-form expression, is defined as:\n",
    "\n",
    "$$\n",
    "F(x; \\mu, \\sigma^2) = \\frac{1}{2} \\left[1 + \\text{erf} \\left( \\frac{x - \\mu}{\\sigma \\sqrt{2}} \\right)\\right]\n",
    "$$\n",
    "\n",
    "Where:\n",
    "- $F(x; \\mu, \\sigma^2)$ is the probability that a random variable $X$ is less than or equal to $x$\n",
    "- $\\text{erf}$ is the error function, a special function used in the computation of the CDF of the Gaussian distribution\n",
    "\n",
    "### Mean and Variance\n",
    "\n",
    "The mean and variance of the Gaussian distribution are given by:\n",
    "\n",
    "$$\n",
    "\\mu = E[X]\n",
    "$$\n",
    "\n",
    "$$\n",
    "\\sigma^2 = Var[X]\n",
    "$$\n",
    "\n"
   ]
  },
  {
   "cell_type": "code",
   "execution_count": 1,
   "id": "e1a297b6-5b78-4545-ae98-d970181e2fff",
   "metadata": {},
   "outputs": [],
   "source": [
    "# Import useful libraries\n",
    "import numpy as np\n",
    "from scipy.stats import binom, norm, geom, expon, poisson\n",
    "import matplotlib.pyplot as plt\n",
    "import seaborn as sns\n",
    "\n",
    "# Set some nice plot defaults\n",
    "plt.rcParams['figure.figsize'] = (10, 8)#(16, 10)   # Bigger\n",
    "sns.set_style(\"darkgrid\")"
   ]
  },
  {
   "cell_type": "code",
   "execution_count": 2,
   "id": "3ed80742-6def-45ed-930f-aa70cbbe81ef",
   "metadata": {},
   "outputs": [
    {
     "data": {
      "text/plain": [
       "[<matplotlib.lines.Line2D at 0x132c59270>]"
      ]
     },
     "execution_count": 2,
     "metadata": {},
     "output_type": "execute_result"
    },
    {
     "data": {
      "image/png": "[encoded data removed]",
      "text/plain": [
       "<Figure size 432x288 with 1 Axes>"
      ]
     },
     "metadata": {
      "needs_background": "light"
     },
     "output_type": "display_data"
    }
   ],
   "source": [
    "# We've all seen the Gaussian\n",
    "\n",
    "fig, ax = plt.subplots(1, 1)\n",
    "\n",
    "x = np.linspace(norm.ppf(0.00001),\n",
    "                norm.ppf(0.99999), 10000)\n",
    "\n",
    "m = 0\n",
    "u = 1\n",
    "ax.plot(x, norm.pdf(x, m, u), 'r-', lw=2, alpha=0.6, label='norm pdf')\n"
   ]
  },
  {
   "cell_type": "markdown",
   "id": "f0155877-e3c1-4781-a656-fa007fda16f7",
   "metadata": {},
   "source": [
    "### Central Limit Theorem (CLT)\n",
    "One of the remarkable properties of the Gaussian distribution is its relation to the Central Limit Theorem (CLT), which states that, under certain conditions, the sum of a large number of independent and identically distributed (i.i.d.) random variables will be approximately normally distributed, regardless of their individual distributions. This makes the Gaussian distribution appear naturally in many natural phenomena and in statistical studies.\n",
    "\n",
    "Let's play..."
   ]
  },
  {
   "cell_type": "code",
   "execution_count": 3,
   "id": "3f230fba-c734-4615-9d2d-735f279f43f0",
   "metadata": {},
   "outputs": [
    {
     "data": {
      "image/png": "[encoded data removed]",
      "text/plain": [
       "<Figure size 432x288 with 1 Axes>"
      ]
     },
     "metadata": {
      "needs_background": "light"
     },
     "output_type": "display_data"
    }
   ],
   "source": [
    "# Parameters\n",
    "sample_size = 1000  # Size of each sample\n",
    "num_samples = 10000  # Number of samples to generate\n",
    "num_variables = 30   # Number of random variables to sum\n",
    "\n",
    "# Generate a large number of samples, each containing the sum of `num_variables` i.i.d. uniform random variables\n",
    "samples = np.sum(np.random.uniform(0, 1, (num_samples, num_variables)), axis=1)\n",
    "\n",
    "# Plot a histogram of the samples to visualize the distribution\n",
    "plt.hist(samples, bins=30, density=True, alpha=0.6, color='g')\n",
    "\n",
    "# Plot the normal distribution for comparison\n",
    "from scipy.stats import norm\n",
    "xmin, xmax = plt.xlim()\n",
    "x = np.linspace(xmin, xmax, 100)\n",
    "p = norm.pdf(x, np.mean(samples), np.std(samples))\n",
    "plt.plot(x, p, 'r', linewidth=2)\n",
    "\n",
    "title = \"Fit results: mu = %.2f,  std = %.2f\" % (np.mean(samples), np.std(samples))\n",
    "plt.title(title)\n",
    "plt.show()"
   ]
  },
  {
   "cell_type": "markdown",
   "id": "486941cc-9a90-4704-8278-8a22639d5a04",
   "metadata": {},
   "source": [
    "\n",
    "### Relationship to the Binomial Distribution\n",
    "\n",
    "Recall that the binomial distribution is defined by two parameters: $n$, the number of trials, and $p$, the probability of success in each trial. The probability mass function of a binomial distribution is given by:\n",
    "\n",
    "$$\n",
    "P(X=k) = {n \\choose k} p^k (1-p)^{n-k}\n",
    "$$\n",
    "\n",
    "where ${n \\choose k}$ represents the number of combinations of $n$ things taken $k$ at a time, and \n",
    "$X$ represents the number of successes in $n$ trials.\n",
    "\n",
    "### Linking the Two: De Moivre-Laplace Limit Theorem\n",
    "\n",
    "When $n$ is large and $p$ is not too close to 0 or 1, the binomial distribution can be approximated by a Gaussian distribution with mean and variance given by:\n",
    "\n",
    "$$\n",
    "\\mu = np\n",
    "$$\n",
    "\n",
    "$$\n",
    "\\sigma^2 = np(1-p)\n",
    "$$\n",
    "\n",
    "So, a binomial distribution $bin(n, p)$ can be approximated by a normal distribution $N(\\mu, \\sigma^2)$ where $\\mu = np$ and $\\sigma^2 = np(1-p)$."
   ]
  },
  {
   "cell_type": "code",
   "execution_count": 4,
   "id": "90c2b258-56c4-4c39-8830-2c220e54eaf2",
   "metadata": {},
   "outputs": [
    {
     "data": {
      "image/png": "[encoded data removed]",
      "text/plain": [
       "<Figure size 432x288 with 1 Axes>"
      ]
     },
     "metadata": {
      "needs_background": "light"
     },
     "output_type": "display_data"
    }
   ],
   "source": [
    "# But show me!\n",
    "# Parameters for the binomial distribution\n",
    "n = 100\n",
    "p = 0.5\n",
    "\n",
    "# Generate random samples from a binomial distribution\n",
    "binomial_data = binom.rvs(n=n, p=p, size=50000)\n",
    "\n",
    "# Parameters for the normal distribution\n",
    "mu = n * p\n",
    "sigma = np.sqrt(n * p * (1 - p))\n",
    "\n",
    "# Generate a range of x values to use in plotting the normal distribution\n",
    "x = np.linspace(min(binomial_data), max(binomial_data), 100)\n",
    "\n",
    "# Get the PDF of the normal distribution at each x value\n",
    "normal_pdf = norm.pdf(x, mu, sigma)\n",
    "\n",
    "# Plot the histogram of the binomial data and the PDF of the normal distribution\n",
    "plt.hist(binomial_data, bins=range(min(binomial_data), max(binomial_data) + 1), density=True, alpha=0.6, color='y', label='Binomial Distribution')\n",
    "plt.plot(x, normal_pdf, color='r', label='Normal Distribution')\n",
    "\n",
    "# Adding labels and title to the plot\n",
    "plt.xlabel('X')\n",
    "plt.ylabel('Probability')\n",
    "plt.title('Binomial Distribution and its Normal Approximation')\n",
    "plt.legend(loc='upper right')\n",
    "\n",
    "# Display the plot\n",
    "plt.show()\n"
   ]
  },
  {
   "cell_type": "markdown",
   "id": "cd6199f1-c76f-45f9-8f85-adef032b31f4",
   "metadata": {},
   "source": [
    "## The Poisson Distribution\n",
    "The Poisson distribution is a discrete probability distribution that expresses the probability of a given number of events occurring in a fixed interval of time or space. These events must occur with a known constant mean rate and independently of the time since the last event. It is not a **discrete** distribution\n",
    "\n",
    "The probability mass function (PMF) of the Poisson distribution is given by the formula:\n",
    "\n",
    "$$\n",
    "P(X=k) = \\frac{e^{-\\lambda} \\lambda^k}{k!}\n",
    "$$\n",
    "\n",
    "where:\n",
    "- $ P(X=k) $ is the probability of observing $ k $ events,\n",
    "- $ \\lambda $ is the average rate (mean number of events in the interval),\n",
    "- $ k $ is the number of events,\n",
    "- $ e $ is the base of the natural logarithm (approximately equal to 2.71828),\n",
    "- $ k! $ is the factorial of $ k $.\n",
    "\n",
    "The mean and the variance of a Poisson distribution are both equal to $ \\lambda $.\n",
    "\n",
    "### Derivation from Binomial\n",
    "\n",
    "To derive the Poisson distribution, we typically start from a binomial distribution and take the limit as the number of trials goes to infinity, while the probability of success in any given trial goes to zero, in such a way that the mean remains finite.\n",
    "\n",
    "Let us assume that we have a binomial distribution with parameters $n$ and $p$, where $n$ is the number of trials and $p$ is the probability of success in each trial. The mean number of successes, $\\lambda$, is given by\n",
    "\n",
    "$$\n",
    "\\lambda = np\n",
    "$$\n",
    "\n",
    "Now we consider a situation where $n \\to \\infty$ and $p \\to 0$ in such a way that $np = \\lambda$ is constant.\n",
    "\n",
    "The probability mass function of the binomial distribution is\n",
    "\n",
    "$$\n",
    "P(X=k) = \\binom{n}{k} p^k (1-p)^{n-k}\n",
    "$$\n",
    "\n",
    "where $X$ is the number of successes (or events happening) and $k$ is a non-negative integer.\n",
    "\n",
    "We want to find the limiting distribution of $X$ as $n \\to \\infty$ and $p \\to 0$ such that $np = \\lambda$.\n",
    "\n",
    "Taking the limit as $n \\to \\infty$ and $p \\to 0$ while keeping $\\lambda = np$ constant, we get\n",
    "\n",
    "$$\n",
    "\\lim_{{n \\to \\infty, p \\to 0}} P(X=k) = \\lim_{{n \\to \\infty, p \\to 0}} \\binom{n}{k} p^k (1-p)^{n-k}\n",
    "$$\n",
    "\n",
    "Now substitute $\\lambda = np$:\n",
    "\n",
    "$$\n",
    "= \\lim_{{n \\to \\infty, p \\to 0}} \\binom{n}{k} \\left( \\frac{\\lambda}{n} \\right)^k \\left(1 - \\frac{\\lambda}{n}\\right)^{n-k}\n",
    "$$\n",
    "\n",
    "Now expand the binomial coefficient and take the limit step by step:\n",
    "\n",
    "$$\n",
    "= \\lim_{{n \\to \\infty, p \\to 0}} \\frac{n(n-1)...(n-k+1)}{k!} \\left( \\frac{\\lambda}{n} \\right)^k \\left(1 - \\frac{\\lambda}{n}\\right)^{n} \\left(1 - \\frac{\\lambda}{n}\\right)^{-k}\n",
    "$$\n",
    "\n",
    "$$\n",
    "= \\frac{\\lambda^k}{k!} \\lim_{{n \\to \\infty, p \\to 0}} \\frac{n(n-1)...(n-k+1)}{n^k} \\left(1 - \\frac{\\lambda}{n}\\right)^n \\left(1 - \\frac{\\lambda}{n}\\right)^{-k}\n",
    "$$\n",
    "\n",
    "Observe that $\\left(1 - \\frac{\\lambda}{n}\\right)^n$ will tend towards $e^{-\\lambda}$ as $n$ tends to infinity. And as $n$ grows, the term $\\frac{n(n-1)...(n-k+1)}{n^k}$ will tend towards 1.\n",
    "\n",
    "Therefore we get:\n",
    "\n",
    "$$\n",
    "= \\frac{\\lambda^k}{k!} e^{-\\lambda}\n",
    "$$"
   ]
  },
  {
   "cell_type": "code",
   "execution_count": 5,
   "id": "2ddb0aae-6cc2-4f27-bfeb-a67be8e17045",
   "metadata": {},
   "outputs": [
    {
     "data": {
      "image/png": "[encoded data removed]",
      "text/plain": [
       "<Figure size 432x288 with 1 Axes>"
      ]
     },
     "metadata": {
      "needs_background": "light"
     },
     "output_type": "display_data"
    }
   ],
   "source": [
    "# Show me!\n",
    "\n",
    "# Set parameters\n",
    "lambda_ = 5.0  # mean for the Poisson distribution\n",
    "n = 1000       # number of trials for the binomial distribution\n",
    "p = lambda_ / n # probability of success for the binomial distribution\n",
    "\n",
    "# Generate data points\n",
    "x = np.arange(0, 15, 1)\n",
    "\n",
    "# Get the PMFs of the Poisson and binomial distributions\n",
    "poisson_pmf = poisson.pmf(x, lambda_)\n",
    "binomial_pmf = binom.pmf(x, n, p)\n",
    "\n",
    "# Plot the PMFs\n",
    "plt.stem(x, poisson_pmf, linefmt='b-', markerfmt='bo', label='Poisson')\n",
    "plt.stem(x, binomial_pmf, linefmt='r-', markerfmt='ro', label='Binomial')\n",
    "plt.xlabel('Number of events')\n",
    "plt.ylabel('Probability')\n",
    "plt.title('Poisson and Binomial Distributions')\n",
    "plt.legend()\n",
    "plt.grid(True)\n",
    "plt.show()\n"
   ]
  },
  {
   "cell_type": "markdown",
   "id": "e623acb7-48da-4ea8-954d-ed0e0a0ef367",
   "metadata": {},
   "source": [
    "## The Exponential Distribution\n",
    "\n",
    "The exponential distribution is a continuous probability distribution often used to model the time until an event occurs. It is memoryless, meaning the probability of the event occurring in the next instant is always the same, regardless of how much time has already passed. \n",
    "\n",
    "### Probability Density Function (PDF)\n",
    "\n",
    "The PDF of the exponential distribution is given by:\n",
    "\n",
    "\\begin{align*} f(x;λ) = \n",
    "\\begin{cases} \n",
    "  λe^{-λx} & x ≥ 0, \\\\\n",
    "  0 & x < 0 \n",
    "\\end{cases}\n",
    "\\end{align*}\n",
    "\n",
    "Where:\n",
    "- $ f(x;λ)$ is the value of the PDF at $ x $\n",
    "-  $λ $ is the rate parameter, $ λ > 0 $\n",
    "- $ x $ is the random variable we are interested in (usually time or space)\n",
    "- $ e $ is the base of the natural logarithm, approximately equal to 2.71828\n",
    "\n",
    "### Cumulative Distribution Function (CDF)\n",
    "\n",
    "The CDF of the exponential distribution is given by:\n",
    "\n",
    "$$ F(x;λ) = \n",
    "\\begin{cases} \n",
    "  1 - e^{-λx} & x ≥ 0, \\\\\n",
    "  0 & x < 0 \n",
    "\\end{cases}\n",
    "$$\n",
    "\n",
    "Where:\n",
    "- $ F(x;λ) $ is the probability that the random variable $ X $ takes on a value less than or equal to $ x $\n",
    "- $ λ $ is the rate parameter, $ λ > 0 $\n",
    "- $ x $ is the random variable we are interested in\n",
    "- $ e $ is the base of the natural logarithm\n",
    "\n",
    "### Mean and Variance\n",
    "\n",
    "The mean μ and variance σ² of the exponential distribution are given by:\n",
    "\n",
    "$$\n",
    "μ = \\frac{1}{λ}\n",
    "$$\n",
    "\n",
    "$$\n",
    "σ² = \\frac{1}{λ²}\n",
    "$$\n",
    "\n",
    "### Memoryless Property\n",
    "\n",
    "The exponential distribution has a memoryless property, which means that no matter how much time has passed, the probability of the event occurring in the next instant is always the same. This property can be formally written as:\n",
    "\n",
    "$$\n",
    "P(X > s + t | X > s) = P(X > t)\n",
    "$$\n",
    "\n",
    "Where:\n",
    "- $ s $ and $ t $ are positive real numbers\n",
    "- $ X $ is a random variable following the exponential distribution\n",
    "\n",
    "## How it arises\n",
    "This distribution is widely used in various fields including but not limited to survival analysis, reliability engineering, and queueing theory. It often describes the time until an event occurs, such as the time until a customer is served, the time until a machine fails, or the distance between mutations on a DNA strand.\n",
    "\n",
    "The exponential distribution often arises in processes where events occur continuously and independently over time, and where the probability of an event occurring in a small interval of time is proportional to the length of that interval. This kind of process is called a \"Poisson process.\"\n",
    "\n",
    "## Poisson Process and Exponential Distribution\n",
    "Let's consider a process where events occur one after another over time. In such a process:\n",
    "\n",
    "Events occur one at a time.\n",
    "The events are independent of each other.\n",
    "The probability of more than one event occurring in a very small interval of time is essentially zero.\n",
    "The average rate at which events occur is constant over the time period of interest.\n",
    "This kind of process, where events occur independently and with a constant average rate, is a hallmark of the Poisson process. And the time between consecutive events in a Poisson process follows an exponential distribution.\n",
    "\n",
    "### Relationship to Geometric Distribution\n",
    "In a more theoretical perspective, if you have a large number of independent Bernoulli trials (success/failure trials) happening in rapid succession, and if you are looking at the waiting time until the first success, then in the limit as the number of trials goes to infinity (and the success probability in each trial goes to zero in such a way that the average number of successes remains finite), this waiting time will follow an exponential distribution. \n",
    "\n",
    "Recall that the mean $ \\mu $ of a geometric distribution, which represents the expected number of trials needed to get the first success, is given by:\n",
    "$$\n",
    "\\mu = \\frac{1}{p}\n",
    "$$\n",
    "\n",
    "where:\n",
    "- $ \\mu $ is the mean\n",
    "- $ p $ is the probability of success on each trial\n",
    "\n",
    "The exponential distribution is characterized by the parameter $ \\lambda $, which is the rate parameter, indicating the number of occurrences per unit time/space. The mean $ \\mu $ of an exponential distribution is given by:\n",
    "\n",
    "$$\n",
    "\\mu = \\frac{1}{\\lambda}\n",
    "$$\n",
    "\n",
    "where:\n",
    "- $ \\mu $ is the mean\n",
    "- $ \\lambda $ is the rate parameter"
   ]
  },
  {
   "cell_type": "code",
   "execution_count": 6,
   "id": "a16166b9-8940-470d-a4d5-5ce62de07ac7",
   "metadata": {},
   "outputs": [
    {
     "data": {
      "image/png": "[encoded data removed]",
      "text/plain": [
       "<Figure size 432x288 with 1 Axes>"
      ]
     },
     "metadata": {
      "needs_background": "light"
     },
     "output_type": "display_data"
    }
   ],
   "source": [
    "# Show me!\n",
    "\n",
    "# Parameter for the geometric distribution\n",
    "p = 0.1\n",
    "\n",
    "# Generate random samples from a geometric distribution\n",
    "geom_data = geom.rvs(p=p, size=10000)\n",
    "\n",
    "# Parameter for the exponential distribution derived from the mean of the geometric distribution\n",
    "lambda_param = 1 / geom_data.mean()\n",
    "\n",
    "# Generate a range of x values to use in plotting the exponential distribution\n",
    "x = np.linspace(min(geom_data), max(geom_data), 100)\n",
    "\n",
    "# Get the PDF of the exponential distribution at each x value\n",
    "expon_pdf = expon.pdf(x, scale=1/lambda_param)\n",
    "\n",
    "# Plot the histogram of the geometric data and the PDF of the exponential distribution\n",
    "plt.hist(geom_data, bins=range(min(geom_data), max(geom_data) + 1), density=True, alpha=0.6, color='y', label='Geometric Distribution')\n",
    "plt.plot(x, expon_pdf, color='blue', label='Exponential Distribution')\n",
    "\n",
    "# Adding labels and title to the plot\n",
    "plt.xlabel('X')\n",
    "plt.ylabel('Probability')\n",
    "plt.title('Geometric Distribution and its Exponential Approximation')\n",
    "plt.legend(loc='upper right')\n",
    "\n",
    "# Display the plot\n",
    "plt.show()\n"
   ]
  },
  {
   "cell_type": "markdown",
   "id": "2a2292c6-548c-4d3e-b48a-4ba6f70fc1e3",
   "metadata": {},
   "source": [
    "## The Lognormal distribution\n",
    "\n",
    "The **lognormal distribution** is a probability distribution of a random variable whose logarithm is normally distributed. If $X$ is a random variable with a lognormal distribution, then $Y = \\ln(X)$ has a normal distribution. The probability density function (pdf) of a lognormal distribution is given by:\n",
    "\n",
    "$$\n",
    "f(x;\\mu,\\sigma^2) = \\frac{1}{x\\sigma \\sqrt{2\\pi}} \\exp \\left( -\\frac{(\\ln x - \\mu)^2}{2\\sigma^2} \\right)\n",
    "$$\n",
    "\n",
    "where:\n",
    "- $ x $ is the variable \n",
    "- $ \\mu $ is the mean of the variable's natural logarithm\n",
    "- $ \\sigma $ is the standard deviation of the variable's natural logarithm\n",
    "\n",
    "### Description\n",
    "\n",
    "A lognormal distribution is positively skewed, meaning that it has a longer right tail. This makes it a suitable choice for describing variables that cannot take negative values but can assume very large positive values, such as wealth, prices of financial assets, or biological measurements. The distribution is defined only for positive values of \\(x\\). In the context of wealth distribution, it can help model the way wealth tends to accumulate for a smaller proportion of the population.\n"
   ]
  },
  {
   "cell_type": "code",
   "execution_count": 7,
   "id": "f44d0da1-b409-4c9c-a0b6-173b2f89775d",
   "metadata": {},
   "outputs": [
    {
     "name": "stderr",
     "output_type": "stream",
     "text": [
      "/var/folders/13/hvpp33sd2t1bvx8bysjqp6dw0000gn/T/ipykernel_60146/4170736092.py:14: RuntimeWarning: invalid value encountered in log\n",
      "  p = (np.exp(-(np.log(x) - mu)**2 / (2 * sigma**2)) / (x * sigma * np.sqrt(2 * np.pi)))\n"
     ]
    },
    {
     "data": {
      "image/png": "[encoded data removed]",
      "text/plain": [
       "<Figure size 432x288 with 1 Axes>"
      ]
     },
     "metadata": {
      "needs_background": "light"
     },
     "output_type": "display_data"
    }
   ],
   "source": [
    "\n",
    "# Parameters for the lognormal distribution\n",
    "mu = 2.0  # mean of the variable's natural logarithm\n",
    "sigma = 1.0  # standard deviation of the variable's natural logarithm\n",
    "\n",
    "# Generate a synthetic dataset that follows a lognormal distribution\n",
    "data = np.random.lognormal(mean=mu, sigma=sigma, size=10000)\n",
    "\n",
    "# Plot the histogram of the synthetic data\n",
    "plt.hist(data, bins=100, density=True, alpha=0.6, color='g')\n",
    "\n",
    "# Overlay the theoretical PDF on the histogram\n",
    "xmin, xmax = plt.xlim()\n",
    "x = np.linspace(xmin, xmax, 100)\n",
    "p = (np.exp(-(np.log(x) - mu)**2 / (2 * sigma**2)) / (x * sigma * np.sqrt(2 * np.pi)))\n",
    "plt.plot(x, p, 'k', linewidth=2)\n",
    "\n",
    "title = \"Fit results: mu = %.2f,  sigma = %.2f\" % (mu, sigma)\n",
    "plt.title(title)\n",
    "plt.show()\n"
   ]
  },
  {
   "cell_type": "markdown",
   "id": "0449cbb5-7b73-4ef2-9319-3c9972eb7f45",
   "metadata": {},
   "source": [
    "# Applications\n",
    "### 1. Gaussian (Normal) Distribution\n",
    "\n",
    "- **Biometric Measurements**: Many biometric measurements (e.g., height, weight, blood pressure) in a population follow a normal distribution.\n",
    "- **Clinical Trial Results**: Analyzing results from clinical trials often assumes a normal distribution for statistical tests, like t-tests.\n",
    "- **Genetic Studies**: In genetic studies, the Gaussian distribution can be used to model the distribution of phenotypic traits controlled by multiple genes.\n",
    "\n",
    "### 2. Poisson Distribution\n",
    "\n",
    "- **Disease Incidence**: Modeling the number of occurrences of a particular disease in a specific time period or in a specific region.\n",
    "- **Hospital Admissions**: Predicting the number of hospital admissions in a given time period.\n",
    "- **Emergency Room Visits**: Analyzing the number of emergency room visits per day.\n",
    "\n",
    "\n",
    "### 3. Exponential Distribution\n",
    "\n",
    "- **Survival Analysis**: Used in survival analysis to model the time until an event occurs, such as the time until patient death or recovery.\n",
    "- **Lifetime of Medical Devices**: Analyzing the lifetime of medical devices or components.\n",
    "- **Time between Events**: Modeling the time between successive events, such as the arrival of patients in an emergency room.\n",
    "\n",
    "\n",
    "### 4. Lognormal Distribution\n",
    "\n",
    "- **Pharmacokinetics**: Often used in pharmacokinetics to describe the distribution of pharmacokinetic parameters such as half-life, volume of distribution, etc.\n",
    "- **Biological Measurements**: Describing various biological parameters and phenomena that cannot take negative values but can have very high positive values.\n",
    "- **Healthcare Costs**: Modeling healthcare costs, as these cannot be negative but can be very high for certain individuals or conditions.\n"
   ]
  }
 ],
 "metadata": {
  "kernelspec": {
   "display_name": "Python 3 (ipykernel)",
   "language": "python",
   "name": "python3"
  },
  "language_info": {
   "codemirror_mode": {
    "name": "ipython",
    "version": 3
   },
   "file_extension": ".py",
   "mimetype": "text/x-python",
   "name": "python",
   "nbconvert_exporter": "python",
   "pygments_lexer": "ipython3",
   "version": "3.10.4"
  }
 },
 "nbformat": 4,
 "nbformat_minor": 5
}
