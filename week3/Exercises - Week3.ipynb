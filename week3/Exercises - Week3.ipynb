{
 "cells": [
  {
   "cell_type": "markdown",
   "id": "0f09926f-90d3-4eb2-aa96-a08604aca5d7",
   "metadata": {},
   "source": [
    "# Problem 1: Gaussian Distribution\n",
    "\n",
    "Meharry has conducted a large healthcare study, in which the systolic blood pressure of adults in the Metro Nashville region is found to follow a Gaussian distribution with a mean of 110 mm Hg and a standard deviation of 20 mm Hg. \n",
    "\n",
    "1. What is the probability that a randomly selected adult from this region has a systolic blood pressure less than 100 mm Hg?\n",
    "2. What is the probability that a randomly selected adult has a systolic blood pressure between 110 mm Hg and 130 mm Hg?\n",
    "\n",
    "Hint: Consider the CDF & SciPy.stats"
   ]
  },
  {
   "cell_type": "code",
   "execution_count": null,
   "id": "b3b55e67-bb20-4e13-87ad-4679e2cc939f",
   "metadata": {},
   "outputs": [],
   "source": [
    "# Python here"
   ]
  },
  {
   "cell_type": "markdown",
   "id": "2fe0eb95-0938-45ab-b40e-02fdc6fca278",
   "metadata": {},
   "source": [
    "In a follow-up study Meharry researches the cholesterol levels of two different age groups: 20-40 and 41-60 years old. The cholesterol levels are normally distributed with the following parameters:\n",
    "\n",
    "Age group 20-40: mean = 180 mg/dL, standard deviation = 25 mg/dL  \n",
    "Age group 41-60: mean = 220 mg/dL, standard deviation = 30 mg/dL  \n",
    "A high cholesterol level is defined as a level greater than 240 mg/dL.   \n",
    "\n",
    "Use this information to find the following:\n",
    "\n",
    "3. What proportion of individuals in each age group have high cholesterol? (hint: use scipy.stats.norm)\n",
    "4. If a test has a 10% false negative rate for detecting high cholesterol, what is the true probability that an individual from each age group has high cholesterol given a negative test result? (hint: use Bayes' theorem and treat the \"high cholesterol\" as a Bernoulli distribution.)"
   ]
  },
  {
   "cell_type": "code",
   "execution_count": 3,
   "id": "2b7e5878-fae1-49de-9aaf-9d8707471d2e",
   "metadata": {},
   "outputs": [],
   "source": [
    "# Python here"
   ]
  },
  {
   "cell_type": "markdown",
   "id": "670c4f14-42b0-4bb2-a9d4-956f1ede2226",
   "metadata": {},
   "source": [
    "# Problem 2: Exponential Distribution\n",
    "\n",
    "\n",
    "The time (in hours) between patient arrivals at City ER follows an exponential distribution with a mean of 0.5 hours.\n",
    "\n",
    "1. What is the probability that no patients arrive in the next hour?\n",
    "2. What is the probability that the next patient will arrive within the next 30 minutes?"
   ]
  },
  {
   "cell_type": "code",
   "execution_count": null,
   "id": "169646fa-a2d3-47bf-bea9-6522296349f8",
   "metadata": {},
   "outputs": [],
   "source": [
    "# Python here"
   ]
  },
  {
   "cell_type": "markdown",
   "id": "1cb07fb9-e4dd-4811-940b-3252fc46a805",
   "metadata": {},
   "source": [
    "The ER observes that the time (in minutes) until the next patient arrives at the ER follows an exponential distribution with a mean of 10 minutes.\n",
    "\n",
    "3. Find the probability that the next patient will arrive within the next 5 minutes.\n",
    "4. Given that no patients have arrived in the last 15 minutes, find the probability that a patient will arrive in the next 5 minutes (hint: use memoryless property of exponential distribution).\n",
    "5. Suppose the ER defines a \"busy hour\" as an hour in which they receive 6 or more patients. Using the exponential distribution parameter, derive and solve a geometric distribution problem to find the probability that the clinic will experience a \"busy hour\"."
   ]
  },
  {
   "cell_type": "code",
   "execution_count": 4,
   "id": "372935fb-b54d-4c50-be6c-e7db901c1489",
   "metadata": {},
   "outputs": [],
   "source": [
    "# Python here"
   ]
  },
  {
   "cell_type": "markdown",
   "id": "6d7cacfd-9ec2-4f17-b801-3643a7a26a36",
   "metadata": {},
   "source": [
    "# Problem 3: Poisson Distribution\n",
    "\n",
    "\n",
    "The hospital records the number of babies born each day. The number of births follows a Poisson distribution with a mean of 3 births per day.\n",
    "\n",
    "1. What is the probability that exactly 5 babies are born tomorrow?\n",
    "2. What is the probability that 3 or fewer babies are born tomorrow?"
   ]
  },
  {
   "cell_type": "code",
   "execution_count": 2,
   "id": "a8443669-94ab-4d87-bfac-ca6d0dc2d83b",
   "metadata": {},
   "outputs": [],
   "source": [
    "# Python here"
   ]
  }
 ],
 "metadata": {
  "kernelspec": {
   "display_name": "Python 3 (ipykernel)",
   "language": "python",
   "name": "python3"
  },
  "language_info": {
   "codemirror_mode": {
    "name": "ipython",
    "version": 3
   },
   "file_extension": ".py",
   "mimetype": "text/x-python",
   "name": "python",
   "nbconvert_exporter": "python",
   "pygments_lexer": "ipython3",
   "version": "3.10.4"
  }
 },
 "nbformat": 4,
 "nbformat_minor": 5
}
