{
 "cells": [
  {
   "cell_type": "markdown",
   "id": "949928a2-0223-4eba-97fe-fe2995564c71",
   "metadata": {},
   "source": [
    "# Describing Distributions"
   ]
  },
  {
   "cell_type": "code",
   "execution_count": 49,
   "id": "d58bc60c-8570-499b-b2bf-e14ece16287e",
   "metadata": {},
   "outputs": [],
   "source": [
    "# Import useful libraries\n",
    "import numpy as np\n",
    "from scipy.stats import binom\n",
    "import matplotlib.pyplot as plt\n",
    "import seaborn as sns\n",
    "\n",
    "# Set some nice plot defaults\n",
    "plt.rcParams['figure.figsize'] = (10, 8)#(16, 10)   # Bigger\n",
    "sns.set_style(\"darkgrid\")\n"
   ]
  },
  {
   "cell_type": "markdown",
   "id": "72cc8388-5b52-4d62-99b6-5368220cc12c",
   "metadata": {},
   "source": [
    "# Scipy Library\n",
    "\n",
    "Last week we rolled our own distributions as a learning exercise.  IRL we'll using libraries that are correct and fast, in Python: Scipy, which has these baked in.\n",
    "\n",
    "Go see: https://docs.scipy.org/doc/scipy/reference/stats.html"
   ]
  },
  {
   "cell_type": "code",
   "execution_count": 51,
   "id": "6e7b9ab0-f251-4db4-b797-43508dd6e5ac",
   "metadata": {},
   "outputs": [
    {
     "data": {
      "text/plain": [
       "<matplotlib.collections.LineCollection at 0x15e1c9ab0>"
      ]
     },
     "execution_count": 51,
     "metadata": {},
     "output_type": "execute_result"
    },
    {
     "data": {
      "image/png": "[encoded data removed]",
      "text/plain": [
       "<Figure size 720x576 with 1 Axes>"
      ]
     },
     "metadata": {},
     "output_type": "display_data"
    }
   ],
   "source": [
    "# Lets do a binomial\n",
    "fig, ax = plt.subplots(1, 1)\n",
    "\n",
    "n, p = 50, 0.5   # Set the parameters of the distribution\n",
    "\n",
    "x = np.arange(0, n) \n",
    "y = binom.pmf(x, n, p)\n",
    "plt.plot(x, y, 'bo', ms=8)   # Plot circles\n",
    "ax.vlines(x, 0, y, colors='b', lw=5, alpha=0.5) # Plot lines"
   ]
  },
  {
   "cell_type": "markdown",
   "id": "c2aeb9c5-faa1-40ad-b741-b1b920becb35",
   "metadata": {},
   "source": [
    "## Centrality - Expectation"
   ]
  },
  {
   "cell_type": "markdown",
   "id": "c4105239-a91e-41fd-8c37-07c67c59b404",
   "metadata": {},
   "source": [
    "Expectation (Average, or mean) reduces all the information contained in a distribution to a single number reperesenting its 'center'.  By one definition of center (there are few others such as mode and median).\n",
    "\n",
    "Alegbraically we have:\n",
    "\\begin{align*}\n",
    "\\mathbb{E}(X) =& \\sum_x x*p(x)\\\\\n",
    "=& \\mu\n",
    "\\end{align*}\n",
    "\n",
    "Where we often use $\\mu$ as shorthand symbol for mean."
   ]
  },
  {
   "cell_type": "code",
   "execution_count": 43,
   "id": "e2e49aab-34e2-426b-8763-5301b2ad120e",
   "metadata": {},
   "outputs": [
    {
     "data": {
      "text/plain": [
       "24.999999999999947"
      ]
     },
     "execution_count": 43,
     "metadata": {},
     "output_type": "execute_result"
    }
   ],
   "source": [
    "# So we can do this directly from the SciPy objects\n",
    "def expected_value(xs, ys):\n",
    "    return sum(x * y for x, y in zip(xs, ys))\n",
    "\n",
    "n, p = 50, 0.5   # Set the parameters of the distribution\n",
    "x = np.arange(0, n) \n",
    "y = binom.pmf(x, n, p)\n",
    "\n",
    "expected_value(x, y)"
   ]
  },
  {
   "cell_type": "code",
   "execution_count": 23,
   "id": "af37d189-ff9f-49f3-a9fd-6b040ee4f42a",
   "metadata": {},
   "outputs": [
    {
     "data": {
      "text/plain": [
       "array(25.)"
      ]
     },
     "execution_count": 23,
     "metadata": {},
     "output_type": "execute_result"
    }
   ],
   "source": [
    "# But this is unnecessary as Scipy provides a better method\n",
    "mean = binom.stats(n, p, moments='m')\n",
    "mean\n",
    "\n",
    "# Why is this better ?\n",
    "# When doesn't it appy ?"
   ]
  },
  {
   "cell_type": "markdown",
   "id": "155f7204-06fa-4d3f-8cfb-f03eb0502463",
   "metadata": {},
   "source": [
    "$\\mathbb{E}$ is what we call a linear operator.  That is \n",
    "$$\n",
    "\\mathbb{E}(X + Y) = \\mathbb{E}(X) + \\mathbb{E}(Y)\n",
    "$$\n",
    "$$\n",
    "\\mathbb{E}(aX + bY) = a\\mathbb{E}(X) + b\\mathbb{E}(Y)\n",
    "$$"
   ]
  },
  {
   "cell_type": "markdown",
   "id": "048a3c2e-5e85-4e24-8c1d-c0ebd0f13644",
   "metadata": {},
   "source": [
    "### Why mean is not enough"
   ]
  },
  {
   "cell_type": "code",
   "execution_count": 57,
   "id": "fc5b98ac-ce8e-4119-bcf6-1fcb39c2c8b4",
   "metadata": {},
   "outputs": [
    {
     "data": {
      "text/plain": [
       "<matplotlib.collections.LineCollection at 0x15e4b6b60>"
      ]
     },
     "execution_count": 57,
     "metadata": {},
     "output_type": "execute_result"
    },
    {
     "data": {
      "image/png": "[encoded data removed]",
      "text/plain": [
       "<Figure size 720x576 with 1 Axes>"
      ]
     },
     "metadata": {},
     "output_type": "display_data"
    }
   ],
   "source": [
    "# Lets see this in code\n",
    "fig, ax = plt.subplots(1, 1)\n",
    "\n",
    "# Get the params of two RVs\n",
    "n, p1, p2 = 50, 0.1, 0.5   # Set the parameters of the distribution\n",
    "mix = 0.6\n",
    "\n",
    "x = np.arange(0, n)          \n",
    "m = mix*binom.pmf(x, n, p1) + (1-mix)*binom.pmf(x, n, p2)  # Add em\n",
    "plt.plot(x, m, 'bo', ms=8, label='binom pmf')   # Plot circles\n",
    "ax.vlines(x, 0, m, colors='b', lw=5, alpha=0.5) # Plot lines"
   ]
  },
  {
   "cell_type": "code",
   "execution_count": 58,
   "id": "7b1077f9-da45-41fc-ba79-db2568cc996a",
   "metadata": {},
   "outputs": [
    {
     "data": {
      "text/plain": [
       "13.0"
      ]
     },
     "execution_count": 58,
     "metadata": {},
     "output_type": "execute_result"
    }
   ],
   "source": [
    "# So the mean of this guy is\n",
    "binom.stats(n, p1, moments='m')\n",
    "mix*binom.stats(n, p1, moments='m') + (1-mix)*binom.stats(n, p2, moments='m')\n",
    "\n",
    "# ROH ROH"
   ]
  },
  {
   "cell_type": "markdown",
   "id": "2f8e9f4f-2c19-4fb1-bc2a-2f92c17feb94",
   "metadata": {},
   "source": [
    "## Spread - Variance\n",
    "\n",
    "The next moment, is variance, or a the measure of dispersion of the distribution, aka how wide it is.\n",
    "\n",
    "On way to think of it the Expecation of the distance from the mean\n",
    "\\begin{align*}\n",
    "\\textrm{Var}(X) =& \\mathbb{E}((X - \\mu)^2)\\\\\n",
    "=& \\sum_X p(x)\\cdot(x - \\mu)^2\\\\\n",
    "=& \\sigma^2\\\\\n",
    "\\end{align*}\n",
    "\n",
    "The further moments of a distribution are Skew (how asymmetrical it is ) and kurtoses (how thick its tails are).  We'll explore them more when we get to continuous RVs...\n",
    "\n",
    "... coming up next."
   ]
  },
  {
   "cell_type": "code",
   "execution_count": null,
   "id": "600c1bb1-8301-450e-aa1c-6cac2bd1dd7e",
   "metadata": {},
   "outputs": [],
   "source": []
  }
 ],
 "metadata": {
  "kernelspec": {
   "display_name": "Python 3 (ipykernel)",
   "language": "python",
   "name": "python3"
  },
  "language_info": {
   "codemirror_mode": {
    "name": "ipython",
    "version": 3
   },
   "file_extension": ".py",
   "mimetype": "text/x-python",
   "name": "python",
   "nbconvert_exporter": "python",
   "pygments_lexer": "ipython3",
   "version": "3.10.4"
  }
 },
 "nbformat": 4,
 "nbformat_minor": 5
}
