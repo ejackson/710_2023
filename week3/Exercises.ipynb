{
 "cells": [
  {
   "cell_type": "markdown",
   "id": "3168caee-b6de-41a9-9630-1f4323c61af0",
   "metadata": {},
   "source": [
    "# Week 2 Exercises\n",
    "\n",
    "These exercises are intended to increase your familiarity with python and the concepts of the course"
   ]
  },
  {
   "cell_type": "markdown",
   "id": "3a36c1b2-675b-4ecb-80bd-009a0fefef02",
   "metadata": {},
   "source": [
    "## Evil Monty Hall\n",
    "\n",
    "Consider the Monty Hall problem covered in class.  \n",
    "\n",
    "1.  Write a simulation for an extended version where there are a total of four doors, rather than 3.  There is one car and 3 goats and the setup is the same: the contestant opens a door, Monty opens a different one revealing a goat and the contestant gets to stick or switch.   What is the probability of winning (opening a door with a car behind it) if the contestant switches or sticks.   Do it by simulation, not math.\n",
    "\n",
    "2.  Same as above, but now there are 2 goats and 2 cars randomly hidden behind the four doors.  Again, simulate the probability of winning a car (any of two) if the contestant switches or sticks."
   ]
  },
  {
   "cell_type": "code",
   "execution_count": 104,
   "id": "cd1d83fe-afe6-4581-9760-ccb5f3fb76a2",
   "metadata": {
    "jupyter": {
     "source_hidden": true
    },
    "tags": []
   },
   "outputs": [
    {
     "name": "stdout",
     "output_type": "stream",
     "text": [
      "Probability of winning if you stick: 0.2512\n",
      "Probability of winning if you switch: 0.3765\n"
     ]
    }
   ],
   "source": [
    "# Four door Monty Hall\n",
    "\n",
    "import random \n",
    "\n",
    "def monty_hall_simulation_4(num_trials=10000):\n",
    "    stick_wins = 0\n",
    "    switch_wins = 0\n",
    "    \n",
    "    for _ in range(num_trials):\n",
    "        # All doors\n",
    "        doors = {1, 2, 3, 4}\n",
    "\n",
    "        # Randomly place a car behind one door\n",
    "        car_position = random.choice(list(doors))\n",
    "        \n",
    "        # The contestant makes a random choice\n",
    "        contestant_choice = random.choice(list(doors))\n",
    "        \n",
    "        # Doors Monty can open to ensure he shows a smelly goat\n",
    "        monty_can_open = doors - {contestant_choice, car_position}\n",
    "        monty_opens = random.choice(list(monty_can_open))\n",
    "        \n",
    "        # The door that the contestant switches to if they choose to switch\n",
    "        switch_choice = random.choice(list(doors - {contestant_choice, monty_opens}))\n",
    "        \n",
    "        # Check the outcomes\n",
    "        if contestant_choice == car_position:\n",
    "            stick_wins += 1\n",
    "        if switch_choice == car_position:\n",
    "            switch_wins += 1\n",
    "\n",
    "    print(f\"Probability of winning if you stick: {stick_wins/num_trials}\")\n",
    "    print(f\"Probability of winning if you switch: {switch_wins/num_trials}\")\n",
    "\n",
    "monty_hall_simulation_4()"
   ]
  },
  {
   "cell_type": "code",
   "execution_count": 321,
   "id": "e9b5461d-2329-4426-8d1a-e354a0748e60",
   "metadata": {},
   "outputs": [
    {
     "name": "stdout",
     "output_type": "stream",
     "text": [
      "Probability of winning if you stick: 0.3732\n",
      "Probability of winning if you switch: 0.432\n"
     ]
    }
   ],
   "source": [
    "# N Car Monty\n",
    "\n",
    "def n_car_monty_hall_simulation(num_cars, num_doors, num_trials=10000):\n",
    "    stick_wins = 0\n",
    "    switch_wins = 0\n",
    "    \n",
    "    for _ in range(num_trials):\n",
    "       # All doors\n",
    "        doors = set(range(1, num_doors+1))\n",
    "\n",
    "        # Randomly place cars behind doors\n",
    "        car_positions = set(random.sample(list(doors), num_cars))\n",
    "        car_positions\n",
    "\n",
    "        # The contestant makes a random choice\n",
    "        contestant_choice = set(random.sample(list(doors), 1))\n",
    "\n",
    "        # Doors Monty can open to ensure he shows a smelly goat\n",
    "        monty_can_open = doors - car_positions - set(contestant_choice)\n",
    "        monty_opens = set(random.sample(list(monty_can_open), 1))\n",
    "\n",
    "        # The doors that the contestant switches to if they choose to switch\n",
    "        can_switch_choice = doors  - contestant_choice - monty_opens\n",
    "        switch_choice = random.sample(list(can_switch_choice), 1).pop()\n",
    "        \n",
    "        # Check the outcomes\n",
    "        if contestant_choice <= car_positions:\n",
    "            stick_wins += 1\n",
    "        if switch_choice in car_positions:\n",
    "            switch_wins += 1\n",
    " \n",
    "        #print(f\"Doors:{doors} -- Car:{car_positions} -- Contestant:{contestant_choice} -- Monty:{monty_opens} -- Switch:{switch_choice} -- {stick_wins},{switch_wins}\")\n",
    "    \n",
    "    print(f\"Probability of winning if you stick: {stick_wins/num_trials}\")\n",
    "    print(f\"Probability of winning if you switch: {switch_wins/num_trials}\")\n",
    "\n",
    "monty_hall_simulation_4(3, 8)"
   ]
  },
  {
   "cell_type": "markdown",
   "id": "1400fa27-1638-4a6c-a0ea-69241958614f",
   "metadata": {},
   "source": [
    "## Base Rate Fallacy\n",
    "\n",
    "We looked at Bayes Rule in the lecture, this exercise applies it.\n",
    "\n",
    "The engineers over at Google have created an AI algorithm that can detect a certain disease using an iPhone app. It has a true positive rate of 99% and a fales positive rate of 5%.\n",
    "\n",
    "$$ P(T^+|D^+) = 0.99$$\n",
    "$$ P(T^+|D^-) = 0.05$$\n",
    "\n",
    "where $T^+$ is the event of a positive test (on the app) for a person, and $D^+$ is the event that a person has SCD, and $D^-$ is the event that a person does not have SCD. \n",
    "\n",
    "In the general population the prevalence of the disease is 1 in about 100,000, ie $P(D^+) = \\frac{1}{100000}$\n",
    "\n",
    "So, if a randomly selected persons runs the app and it comes back positive, what is the probability that you have the SCD  ?\n",
    "\n",
    "1.  Solve using math\n",
    "\n",
    "2.  Solve using simulation\n"
   ]
  },
  {
   "cell_type": "markdown",
   "id": "abd863da-50f6-45ac-83db-746b370073eb",
   "metadata": {},
   "source": [
    "## Math Solution\n",
    "Using Bayes Rule and then Law of Total Probability\n",
    "\\begin{align*}\n",
    "P(D+|T+) &= \\frac{P(D+) P(T+|D+)}{P(T+)} \\\\\n",
    " &= \\frac{P(D+) P(T+|D+)}{P(T+|D+)P(D+) + P(T+|D-)P(D-)} \\\\\n",
    " &= \\frac{\\frac{1}{100000}\\cdot 0.99}{0.99\\cdot\\frac{1}{100000} + 0.05 * \\frac{99999}{100000}} \\\\\n",
    " &\\approx 0.0198\\%\n",
    "\\end{align*}"
   ]
  },
  {
   "cell_type": "code",
   "execution_count": 370,
   "id": "b55ef0d4-4f60-4db9-b7a3-6391a0043020",
   "metadata": {},
   "outputs": [
    {
     "name": "stdout",
     "output_type": "stream",
     "text": [
      "P(D+|T+) = 9.751%\n"
     ]
    }
   ],
   "source": [
    "# Python here\n",
    "\n",
    "# Set the parameters\n",
    "true_positive_rate = 0.99\n",
    "false_positive_rate = 0.0001\n",
    "prevalence = 1/100000\n",
    "\n",
    "# Generate a large random sample of individuals\n",
    "n_samples = 10000000\n",
    "actual_disease = np.random.rand(n_samples) < prevalence    # NOTE HOW THIS WORKS !\n",
    "\n",
    "# Generate the test results based on the true disease state and the test characteristics\n",
    "test_results = np.where(actual_disease, \n",
    "                        np.random.rand(n_samples) < true_positive_rate, \n",
    "                        np.random.rand(n_samples) < false_positive_rate)\n",
    "\n",
    "# Calculate the conditional probability P(D+|T+) using the simulation results\n",
    "positive_test_results = test_results.sum()\n",
    "true_positives = (test_results & actual_disease).sum()\n",
    "\n",
    "conditional_probability = true_positives / positive_test_results\n",
    "print(f\"P(D+|T+) = {conditional_probability * 100:.3f}%\")"
   ]
  },
  {
   "cell_type": "markdown",
   "id": "0e1f29db-e0fa-4bd8-9c11-60da9b81c4d0",
   "metadata": {},
   "source": [
    "Extra credit.   This disease is actually Sickle Cell Disease where the prevalence in the African American Community is much higher: 1 in 365.   So if you are African American and the test comes back positive, what is the probability you have the disease ?\n",
    "\n",
    "3. Solve with math\n",
    "\n",
    "4. Solve using simulation\n",
    "\n",
    "5. Discuss some implications (a single paragraph, tops)"
   ]
  },
  {
   "cell_type": "markdown",
   "id": "5c3691b7-f3e0-4c69-aeda-2e59ba6fdaac",
   "metadata": {},
   "source": [
    "## Math Solution\n",
    "Using Bayes Rule and then Law of Total Probability\n",
    "\\begin{align*}\n",
    "P(D+|T+) &= \\frac{P(D+) P(T+|D+)}{P(T+)} \\\\\n",
    " &= \\frac{P(D+) P(T+|D+)}{P(T+|D+)P(D+) + P(T+|D-)P(D-)} \\\\\n",
    " &= \\frac{\\frac{1}{365}\\cdot 0.99}{0.99\\cdot\\frac{1}{365} + 0.05 * \\frac{364}{365}} \\\\\n",
    " &\\approx 5\\%\n",
    "\\end{align*}"
   ]
  },
  {
   "cell_type": "markdown",
   "id": "26d7e2e1-727c-4e92-9946-b6048c9e3057",
   "metadata": {},
   "source": [
    "Discussion here"
   ]
  },
  {
   "cell_type": "markdown",
   "id": "44b909af-53a8-4855-9f29-bbda2fedc540",
   "metadata": {},
   "source": [
    "# Not so Lucky Luke\n",
    "\n",
    "Luke is gambling with a biased coin, which has a probability of 40% of coming up Heads, and Tails is considered a win. \n",
    "\n",
    "1.  What is the probability that Luke wins (flips Tails) on the first flip ?\n",
    "2.  What is the probability that Luke loses 3 flips (Heads) in a row, before winning (tails) on the fourth ?\n",
    "3.  If on the fourth flip he gets Heads again!  What is the probability that next flip will come up Heads ?\n",
    "\n",
    "Solve however you like."
   ]
  },
  {
   "cell_type": "markdown",
   "id": "77840173-cf5c-4b38-ae6f-b4daf61a7708",
   "metadata": {},
   "source": [
    "## Q1\n",
    "p = 0.6\n",
    "\n",
    "## Q2\n",
    "From geometric series let X be the number of heads before a tail\n",
    "\\begin{align*}\n",
    "X\\sim geo(p) \\implies P(X=k) =& (1-p)^{k}p\\\\\n",
    "=& 0.4^3\\cdot0.6\\\\\n",
    "=& 0.0384\n",
    "\\end{align*}\n",
    "\n",
    "## Q3\n",
    "Its still 0.4, as these are independent events.  There are no 'streaks'"
   ]
  }
 ],
 "metadata": {
  "kernelspec": {
   "display_name": "Python 3 (ipykernel)",
   "language": "python",
   "name": "python3"
  },
  "language_info": {
   "codemirror_mode": {
    "name": "ipython",
    "version": 3
   },
   "file_extension": ".py",
   "mimetype": "text/x-python",
   "name": "python",
   "nbconvert_exporter": "python",
   "pygments_lexer": "ipython3",
   "version": "3.10.4"
  }
 },
 "nbformat": 4,
 "nbformat_minor": 5
}
